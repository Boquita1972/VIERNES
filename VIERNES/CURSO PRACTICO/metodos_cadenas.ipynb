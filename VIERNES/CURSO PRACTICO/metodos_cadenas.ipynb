{
 "cells": [
  {
   "cell_type": "markdown",
   "metadata": {},
   "source": [
    "                                   METODO DE CADENA"
   ]
  },
  {
   "cell_type": "markdown",
   "metadata": {},
   "source": [
    "METODOS SON FUNCIONES ESPECIFICAS DE OBJETOS"
   ]
  },
  {
   "cell_type": "markdown",
   "metadata": {},
   "source": [
    "ESTRUCTURA = DATO .METODO / FUNCION ()"
   ]
  },
  {
   "cell_type": "code",
   "execution_count": 74,
   "metadata": {},
   "outputs": [
    {
     "name": "stdout",
     "output_type": "stream",
     "text": [
      "HOLA SOY ADRI\n"
     ]
    }
   ],
   "source": [
    "#UPPER / LOWER\n",
    "cadena1= \"hola soy adri\"\n",
    "cadena2= \"bienvenido maquinola\"\n",
    "\n",
    "resultado = cadena1.upper()   #.upper convierte a mayuscula\n",
    "                              #.lower convierte a minuscula\n",
    "\n",
    "print (resultado)"
   ]
  },
  {
   "cell_type": "code",
   "execution_count": 75,
   "metadata": {},
   "outputs": [
    {
     "name": "stdout",
     "output_type": "stream",
     "text": [
      "Hola soy adri, Bienvenido maquinola\n"
     ]
    }
   ],
   "source": [
    "#.CAPITALIZE() convierte la primer letra a mayuscula\n",
    "\n",
    "cadena1= \"hola soy adri\"\n",
    "cadena2= \"bienvenido maquinola\"\n",
    "\n",
    "resultado = f\"{cadena1.capitalize()}, { cadena2.capitalize()}\" # cadena f, concateno \n",
    "                                                               \n",
    "print (resultado)"
   ]
  },
  {
   "cell_type": "code",
   "execution_count": 76,
   "metadata": {},
   "outputs": [
    {
     "name": "stdout",
     "output_type": "stream",
     "text": [
      "hola soy adri, bienvenido maquinola\n"
     ]
    }
   ],
   "source": [
    "#cadena f concateno cadenas\n",
    "\n",
    "cadena3= f\"{cadena1 }, {cadena2}\"\n",
    "\n",
    "print (cadena3)"
   ]
  },
  {
   "cell_type": "code",
   "execution_count": 77,
   "metadata": {},
   "outputs": [
    {
     "name": "stdout",
     "output_type": "stream",
     "text": [
      "-1\n"
     ]
    }
   ],
   "source": [
    "#.FIND() nos indica en que posicion se encuentra un caracter de la cadena. si no la encuentra nos devuelve -1.\n",
    "\n",
    "cadena1= \"hola soy adri\"\n",
    "cadena2= \"bienvenido maquinola\"\n",
    "\n",
    "resultado = cadena1.find(\"j\")   \n",
    "\n",
    "print (resultado)"
   ]
  },
  {
   "cell_type": "code",
   "execution_count": 78,
   "metadata": {},
   "outputs": [
    {
     "ename": "ValueError",
     "evalue": "substring not found",
     "output_type": "error",
     "traceback": [
      "\u001b[1;31m---------------------------------------------------------------------------\u001b[0m",
      "\u001b[1;31mValueError\u001b[0m                                Traceback (most recent call last)",
      "\u001b[1;32mc:\\Users\\gonzaleza\\Desktop\\DOMINGO\\CURSO PRACTICO\\metodos_cadenas.ipynb Celda 7\u001b[0m line \u001b[0;36m6\n\u001b[0;32m      <a href='vscode-notebook-cell:/c%3A/Users/gonzaleza/Desktop/DOMINGO/CURSO%20PRACTICO/metodos_cadenas.ipynb#W5sZmlsZQ%3D%3D?line=2'>3</a>\u001b[0m cadena1\u001b[39m=\u001b[39m \u001b[39m\"\u001b[39m\u001b[39mhola soy adri\u001b[39m\u001b[39m\"\u001b[39m\n\u001b[0;32m      <a href='vscode-notebook-cell:/c%3A/Users/gonzaleza/Desktop/DOMINGO/CURSO%20PRACTICO/metodos_cadenas.ipynb#W5sZmlsZQ%3D%3D?line=3'>4</a>\u001b[0m cadena2\u001b[39m=\u001b[39m \u001b[39m\"\u001b[39m\u001b[39mbienvenido maquinola\u001b[39m\u001b[39m\"\u001b[39m\n\u001b[1;32m----> <a href='vscode-notebook-cell:/c%3A/Users/gonzaleza/Desktop/DOMINGO/CURSO%20PRACTICO/metodos_cadenas.ipynb#W5sZmlsZQ%3D%3D?line=5'>6</a>\u001b[0m resultado \u001b[39m=\u001b[39m cadena1\u001b[39m.\u001b[39;49mindex(\u001b[39m\"\u001b[39;49m\u001b[39mj\u001b[39;49m\u001b[39m\"\u001b[39;49m)   \n\u001b[0;32m      <a href='vscode-notebook-cell:/c%3A/Users/gonzaleza/Desktop/DOMINGO/CURSO%20PRACTICO/metodos_cadenas.ipynb#W5sZmlsZQ%3D%3D?line=7'>8</a>\u001b[0m \u001b[39mprint\u001b[39m (resultado)\n",
      "\u001b[1;31mValueError\u001b[0m: substring not found"
     ]
    }
   ],
   "source": [
    "#.INDEX() . funciona igual que FIND con la diferencia que si no la encuentra nos devuelve una excepcion.\n",
    "\n",
    "cadena1= \"hola soy adri\"\n",
    "cadena2= \"bienvenido maquinola\"\n",
    "\n",
    "resultado = cadena1.index(\"j\")   \n",
    "\n",
    "print (resultado)"
   ]
  },
  {
   "cell_type": "code",
   "execution_count": 81,
   "metadata": {},
   "outputs": [
    {
     "name": "stdout",
     "output_type": "stream",
     "text": [
      "False\n"
     ]
    }
   ],
   "source": [
    "#.ISNUMERIC() . Devuelve True si todos los caracteres en la cadena son numeros.\n",
    "\n",
    "cadena1= \"hola soy adri\"\n",
    "cadena2= \"bienvenido maquinola\"\n",
    "\n",
    "resultado = cadena1.isnumeric()   \n",
    "\n",
    "print (resultado)"
   ]
  },
  {
   "cell_type": "code",
   "execution_count": 79,
   "metadata": {},
   "outputs": [
    {
     "name": "stdout",
     "output_type": "stream",
     "text": [
      "False\n"
     ]
    }
   ],
   "source": [
    "#.ISALPHA()  Devuelve True si todos los caracteres en la cadena son letras, \n",
    "#de lo contrario, devuelve False . \n",
    "#Los espacios en blanco, números u otros caracteres especiales causarán que este método devuelva False .\n",
    "\n",
    "cadena1= \"hola soy adri\" \n",
    "cadena2= \"bienvenido maquinola\"\n",
    "\n",
    "resultado = cadena1.isalpha()   \n",
    "\n",
    "print (resultado)"
   ]
  },
  {
   "cell_type": "code",
   "execution_count": 3,
   "metadata": {},
   "outputs": [
    {
     "name": "stdout",
     "output_type": "stream",
     "text": [
      "2\n"
     ]
    }
   ],
   "source": [
    "#.COUNT() nos dice cuantas veces encuentra una coincidencia.\n",
    "\n",
    "cadena1= \"hola soy adri\" \n",
    "cadena2= \"bienvenido maquinola\"\n",
    "\n",
    "resultado = cadena1.count(\"a\")   \n",
    "\n",
    "print (resultado)"
   ]
  },
  {
   "cell_type": "code",
   "execution_count": 7,
   "metadata": {},
   "outputs": [
    {
     "name": "stdout",
     "output_type": "stream",
     "text": [
      "13\n"
     ]
    }
   ],
   "source": [
    "#.LEN() cuenta la cantidad de caracteres que tiene una cadena incluyendo los espacios.\n",
    "# como es una funcion va adelante de la variable.\n",
    "\n",
    "cadena1= \"hola soy adri\" \n",
    "cadena2= \"bienvenido maquinola\"\n",
    "\n",
    "resultado = len(cadena1)   \n",
    "\n",
    "print (resultado)"
   ]
  },
  {
   "cell_type": "code",
   "execution_count": 13,
   "metadata": {},
   "outputs": [
    {
     "name": "stdout",
     "output_type": "stream",
     "text": [
      "True\n"
     ]
    }
   ],
   "source": [
    "#.STARSWITH() le preguntamos con que caracter o caracteres comienza una cadena y nos responde true / false.\n",
    "\n",
    "cadena1= \"hola soy adri\" \n",
    "cadena2= \"bienvenido maquinola\"\n",
    "\n",
    "resultado = cadena1.startswith(\"h\")   \n",
    "\n",
    "print (resultado)"
   ]
  },
  {
   "cell_type": "code",
   "execution_count": 15,
   "metadata": {},
   "outputs": [
    {
     "name": "stdout",
     "output_type": "stream",
     "text": [
      "True\n"
     ]
    }
   ],
   "source": [
    "#.ENDSWITH() le preguntamos con que caracter o caracteres termina una cadena y nos responde true / false.\n",
    "\n",
    "cadena1= \"hola soy adri\" \n",
    "cadena2= \"bienvenido maquinola\"\n",
    "\n",
    "resultado = cadena1.endswith(\"ri\")   \n",
    "\n",
    "print (resultado)"
   ]
  },
  {
   "cell_type": "code",
   "execution_count": 30,
   "metadata": {},
   "outputs": [
    {
     "name": "stdout",
     "output_type": "stream",
     "text": [
      "hola soy adru\n",
      "<class 'str'>\n"
     ]
    }
   ],
   "source": [
    "#.REPLACE() reemplaza una parte de la cadena\n",
    "cadena1= \"hola soy adri\" \n",
    "cadena2= \"bienvenido maquinola\"\n",
    "\n",
    "resultado = cadena1.replace(\"i\",\"u\")   \n",
    "\n",
    "print (resultado)\n",
    "print (type(resultado))\n"
   ]
  },
  {
   "cell_type": "code",
   "execution_count": 24,
   "metadata": {},
   "outputs": [
    {
     "name": "stdout",
     "output_type": "stream",
     "text": [
      "hola soy hermoso\n"
     ]
    }
   ],
   "source": [
    "\n",
    "resultado = cadena1.replace(\"adri\",\"hermoso\")   \n",
    "\n",
    "print (resultado)"
   ]
  },
  {
   "cell_type": "code",
   "execution_count": 29,
   "metadata": {},
   "outputs": [
    {
     "name": "stdout",
     "output_type": "stream",
     "text": [
      "['hola', 'soy', 'adri']\n",
      "<class 'list'>\n"
     ]
    }
   ],
   "source": [
    "#.SPLIT() me separa la cadena, en este caso al encontrar un espacio lo separa. \n",
    "# y se convierte la cadena STR en una lista.\n",
    "\n",
    "cadena1= \"hola soy adri\" \n",
    "cadena2= \"bienvenido maquinola\"\n",
    "\n",
    "resultado = cadena1.split(\" \")   \n",
    "\n",
    "print (resultado)\n",
    "print (type(resultado))"
   ]
  }
 ],
 "metadata": {
  "kernelspec": {
   "display_name": "Python 3",
   "language": "python",
   "name": "python3"
  },
  "language_info": {
   "codemirror_mode": {
    "name": "ipython",
    "version": 3
   },
   "file_extension": ".py",
   "mimetype": "text/x-python",
   "name": "python",
   "nbconvert_exporter": "python",
   "pygments_lexer": "ipython3",
   "version": "3.9.5"
  }
 },
 "nbformat": 4,
 "nbformat_minor": 2
}
