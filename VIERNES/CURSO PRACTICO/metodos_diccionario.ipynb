{
 "cells": [
  {
   "cell_type": "code",
   "execution_count": 125,
   "metadata": {},
   "outputs": [],
   "source": [
    "diccionario={\n",
    "    \"nombre\": \"adri\",\n",
    "    \"apellido\":\"gonzalez\",\n",
    "    \"edad\": 51\n",
    "}"
   ]
  },
  {
   "cell_type": "code",
   "execution_count": null,
   "metadata": {},
   "outputs": [],
   "source": []
  },
  {
   "cell_type": "code",
   "execution_count": 126,
   "metadata": {},
   "outputs": [
    {
     "name": "stdout",
     "output_type": "stream",
     "text": [
      "dict_keys(['nombre', 'apellido', 'edad'])\n"
     ]
    }
   ],
   "source": [
    "#KEYS sirve para iterar\n",
    "\n",
    "clave=diccionario.keys()\n",
    "\n",
    "print (clave)"
   ]
  },
  {
   "cell_type": "code",
   "execution_count": 127,
   "metadata": {},
   "outputs": [
    {
     "name": "stdout",
     "output_type": "stream",
     "text": [
      "51\n",
      "hola adri\n"
     ]
    }
   ],
   "source": [
    "#GET nos devuelve el valor de una clave\n",
    "\n",
    "clave= diccionario.get(\"edad\")\n",
    "\n",
    "print (clave)\n",
    "print (\"hola adri\")"
   ]
  },
  {
   "cell_type": "code",
   "execution_count": 128,
   "metadata": {},
   "outputs": [
    {
     "ename": "KeyError",
     "evalue": "'ciudad'",
     "output_type": "error",
     "traceback": [
      "\u001b[1;31m---------------------------------------------------------------------------\u001b[0m",
      "\u001b[1;31mKeyError\u001b[0m                                  Traceback (most recent call last)",
      "\u001b[1;32mc:\\Users\\wag\\OneDrive\\Escritorio\\VIERNES\\VIERNES\\CURSO PRACTICO\\metodos_diccionario.ipynb Celda 5\u001b[0m line \u001b[0;36m4\n\u001b[0;32m      <a href='vscode-notebook-cell:/c%3A/Users/wag/OneDrive/Escritorio/VIERNES/VIERNES/CURSO%20PRACTICO/metodos_diccionario.ipynb#W2sZmlsZQ%3D%3D?line=0'>1</a>\u001b[0m \u001b[39m#GET MUY IMPORTANTE LO PODRIAMOS LLAMAR SIN UTILIZAR GET, \u001b[39;00m\n\u001b[0;32m      <a href='vscode-notebook-cell:/c%3A/Users/wag/OneDrive/Escritorio/VIERNES/VIERNES/CURSO%20PRACTICO/metodos_diccionario.ipynb#W2sZmlsZQ%3D%3D?line=1'>2</a>\u001b[0m \u001b[39m#PERO SI BUSCAMOS UN NOMBRE Y NO LO ENCUENTRA, EL PROGRAMA NOS TIRA UNA EXEPCION Y SE PARA.\u001b[39;00m\n\u001b[1;32m----> <a href='vscode-notebook-cell:/c%3A/Users/wag/OneDrive/Escritorio/VIERNES/VIERNES/CURSO%20PRACTICO/metodos_diccionario.ipynb#W2sZmlsZQ%3D%3D?line=3'>4</a>\u001b[0m clave\u001b[39m=\u001b[39mdiccionario[\u001b[39m\"\u001b[39;49m\u001b[39mciudad\u001b[39;49m\u001b[39m\"\u001b[39;49m]\n\u001b[0;32m      <a href='vscode-notebook-cell:/c%3A/Users/wag/OneDrive/Escritorio/VIERNES/VIERNES/CURSO%20PRACTICO/metodos_diccionario.ipynb#W2sZmlsZQ%3D%3D?line=5'>6</a>\u001b[0m \u001b[39mprint\u001b[39m (clave)\n\u001b[0;32m      <a href='vscode-notebook-cell:/c%3A/Users/wag/OneDrive/Escritorio/VIERNES/VIERNES/CURSO%20PRACTICO/metodos_diccionario.ipynb#W2sZmlsZQ%3D%3D?line=6'>7</a>\u001b[0m \u001b[39mprint\u001b[39m (\u001b[39m\"\u001b[39m\u001b[39mhola adri\u001b[39m\u001b[39m\"\u001b[39m)\n",
      "\u001b[1;31mKeyError\u001b[0m: 'ciudad'"
     ]
    }
   ],
   "source": [
    "#GET MUY IMPORTANTE LO PODRIAMOS LLAMAR SIN UTILIZAR GET, \n",
    "#PERO SI BUSCAMOS UN NOMBRE Y NO LO ENCUENTRA, EL PROGRAMA NOS TIRA UNA EXEPCION Y SE PARA.\n",
    "\n",
    "clave=diccionario[\"ciudad\"]\n",
    "\n",
    "print (clave)\n",
    "print (\"hola adri\")"
   ]
  },
  {
   "cell_type": "code",
   "execution_count": null,
   "metadata": {},
   "outputs": [
    {
     "name": "stdout",
     "output_type": "stream",
     "text": [
      "None\n",
      "hola adri\n"
     ]
    }
   ],
   "source": [
    "#UTILIZANDO GET NOS DICE QUE NO LA ENCUENTRA\n",
    "\n",
    "clave=diccionario.get('ciudad')\n",
    "\n",
    "print (clave)\n",
    "print (\"hola adri\")"
   ]
  },
  {
   "cell_type": "code",
   "execution_count": null,
   "metadata": {},
   "outputs": [
    {
     "name": "stdout",
     "output_type": "stream",
     "text": [
      "antes de utilizar .pop {'nombre': 'adri', 'apellido': 'gonzalez', 'edad': 51}\n",
      "despues de utilizar . pop {'nombre': 'adri', 'apellido': 'gonzalez'}\n"
     ]
    }
   ],
   "source": [
    "#.POP eliminamos un elemento del diccionario\n",
    "print (\"antes de utilizar .pop\",diccionario)\n",
    "diccionario.pop(\"edad\")\n",
    "print (\"despues de utilizar . pop\", diccionario)"
   ]
  },
  {
   "cell_type": "code",
   "execution_count": null,
   "metadata": {},
   "outputs": [
    {
     "name": "stdout",
     "output_type": "stream",
     "text": [
      "{'nombre': 'adri', 'apellido': 'gonzalez'}\n",
      "dict_items([('nombre', 'adri'), ('apellido', 'gonzalez')])\n"
     ]
    }
   ],
   "source": [
    "#ITEMS hace iterable el diccionario, iterar es recorrer y poder actuar sobre cada elemento.\n",
    "\n",
    "print (diccionario)\n",
    "clave= diccionario.items()   #ahora puedo iterar\n",
    "print (clave)"
   ]
  },
  {
   "cell_type": "code",
   "execution_count": null,
   "metadata": {},
   "outputs": [
    {
     "name": "stdout",
     "output_type": "stream",
     "text": [
      "{}\n"
     ]
    }
   ],
   "source": [
    "#CLEAR elimina todo el contenido del diccionario\n",
    "\n",
    "diccionario.clear()\n",
    "print (diccionario)"
   ]
  }
 ],
 "metadata": {
  "kernelspec": {
   "display_name": "Python 3",
   "language": "python",
   "name": "python3"
  },
  "language_info": {
   "codemirror_mode": {
    "name": "ipython",
    "version": 3
   },
   "file_extension": ".py",
   "mimetype": "text/x-python",
   "name": "python",
   "nbconvert_exporter": "python",
   "pygments_lexer": "ipython3",
   "version": "3.9.5"
  }
 },
 "nbformat": 4,
 "nbformat_minor": 2
}
