{
 "cells": [
  {
   "cell_type": "code",
   "execution_count": 9,
   "metadata": {},
   "outputs": [
    {
     "name": "stdout",
     "output_type": "stream",
     "text": [
      "{'nombre': 'adri', 'apellido': 'gonzalez', 'edad': 51}\n"
     ]
    }
   ],
   "source": [
    "diccionario={\n",
    "    'nombre':'adri',\n",
    "    'apellido':'gonzalez',\n",
    "    'edad': 51\n",
    "}\n",
    "\n",
    "print(diccionario)"
   ]
  },
  {
   "cell_type": "code",
   "execution_count": 20,
   "metadata": {},
   "outputs": [
    {
     "name": "stdout",
     "output_type": "stream",
     "text": [
      "nombre\n",
      "apellido\n",
      "edad\n"
     ]
    }
   ],
   "source": [
    "#itero solo las claves\n",
    "\n",
    "for elementos in diccionario:\n",
    "    print (elementos)"
   ]
  },
  {
   "cell_type": "code",
   "execution_count": 21,
   "metadata": {},
   "outputs": [
    {
     "name": "stdout",
     "output_type": "stream",
     "text": [
      "('nombre', 'adri')\n",
      "('apellido', 'gonzalez')\n",
      "('edad', 51)\n"
     ]
    }
   ],
   "source": [
    "#al agregarle al bucle for el metodo items itero tambien los valores\n",
    "\n",
    "for elementos in diccionario.items(): #con el metodo ITEMS() itero los valores\n",
    "    print (elementos)"
   ]
  },
  {
   "cell_type": "code",
   "execution_count": 22,
   "metadata": {},
   "outputs": [
    {
     "name": "stdout",
     "output_type": "stream",
     "text": [
      "la clave es: nombre y el valor es: adri\n",
      "la clave es: apellido y el valor es: gonzalez\n",
      "la clave es: edad y el valor es: 51\n"
     ]
    }
   ],
   "source": [
    "#lo antes mencionado\n",
    "\n",
    "for elementos in diccionario.items():\n",
    "    clave=elementos[0]\n",
    "    valor=elementos[1]\n",
    "    print(f'la clave es: {clave} y el valor es: {valor}')"
   ]
  }
 ],
 "metadata": {
  "kernelspec": {
   "display_name": "Python 3",
   "language": "python",
   "name": "python3"
  },
  "language_info": {
   "codemirror_mode": {
    "name": "ipython",
    "version": 3
   },
   "file_extension": ".py",
   "mimetype": "text/x-python",
   "name": "python",
   "nbconvert_exporter": "python",
   "pygments_lexer": "ipython3",
   "version": "3.9.5"
  }
 },
 "nbformat": 4,
 "nbformat_minor": 2
}
