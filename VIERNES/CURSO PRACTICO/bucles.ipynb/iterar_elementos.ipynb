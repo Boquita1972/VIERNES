{
 "cells": [
  {
   "cell_type": "code",
   "execution_count": 1,
   "metadata": {},
   "outputs": [
    {
     "name": "stdout",
     "output_type": "stream",
     "text": [
      "banana\n",
      "manzana\n",
      "pera\n",
      "ciruela\n",
      "durazno\n",
      "mandarina\n"
     ]
    }
   ],
   "source": [
    "frutas= ('banana', 'manzana','pera','ciruela','durazno','mandarina')\n",
    "cadena= ('hola adri')\n",
    "numeros=(2,5,8,10)\n",
    "\n",
    "for elementos in frutas:\n",
    "    print (elementos)"
   ]
  },
  {
   "cell_type": "code",
   "execution_count": 2,
   "metadata": {},
   "outputs": [
    {
     "name": "stdout",
     "output_type": "stream",
     "text": [
      "me voy a comer una: banana\n",
      "me voy a comer una: manzana\n",
      "me voy a comer una: ciruela\n",
      "me voy a comer una: durazno\n",
      "me voy a comer una: mandarina\n"
     ]
    }
   ],
   "source": [
    "#cuando llega a la pero CONTINUE actua para interrumpir y volver a comenzar el bucle.\n",
    "\n",
    "for elementos in frutas:\n",
    "    if elementos == 'pera':\n",
    "        continue\n",
    "    print(f'me voy a comer una: {elementos}')"
   ]
  },
  {
   "cell_type": "code",
   "execution_count": 3,
   "metadata": {},
   "outputs": [
    {
     "name": "stdout",
     "output_type": "stream",
     "text": [
      "me voy a comer una: banana\n",
      "me voy a comer una: manzana\n",
      "me duele la panza no voy a comer mas\n"
     ]
    }
   ],
   "source": [
    "# cada vez que comemos una pera nos duele la panza y no podemos continuar\n",
    "\n",
    "for elementos in frutas:\n",
    "    if elementos == 'pera':\n",
    "        print ('me duele la panza no voy a comer mas')\n",
    "        break\n",
    "    print(f'me voy a comer una: {elementos}')"
   ]
  },
  {
   "cell_type": "code",
   "execution_count": 4,
   "metadata": {},
   "outputs": [
    {
     "name": "stdout",
     "output_type": "stream",
     "text": [
      "me voy a comer una: banana\n",
      "me voy a comer una: manzana\n",
      "me voy a comer una: pera\n",
      "la pera me cayo mal no voy a comer mas\n",
      "bucle terminado\n"
     ]
    }
   ],
   "source": [
    "# cada vez que comemos una pera nos duele la panza y no podemos continuar\n",
    "\n",
    "for elementos in frutas:\n",
    "    print(f'me voy a comer una: {elementos}') \n",
    "    if elementos == 'pera':\n",
    "     print ('la pera me cayo mal no voy a comer mas')\n",
    "     break\n",
    "print ('bucle terminado')    \n",
    "    "
   ]
  },
  {
   "cell_type": "code",
   "execution_count": 5,
   "metadata": {},
   "outputs": [
    {
     "name": "stdout",
     "output_type": "stream",
     "text": [
      "h\n",
      "o\n",
      "l\n",
      "a\n",
      " \n",
      "a\n",
      "d\n",
      "r\n",
      "i\n"
     ]
    }
   ],
   "source": [
    "for elementos in cadena:\n",
    "    print (elementos)"
   ]
  },
  {
   "cell_type": "markdown",
   "metadata": {},
   "source": [
    "---------------------------------------------------------------------------------------------------------------------------------"
   ]
  },
  {
   "cell_type": "code",
   "execution_count": 8,
   "metadata": {},
   "outputs": [
    {
     "name": "stdout",
     "output_type": "stream",
     "text": [
      "4\n",
      "10\n",
      "16\n",
      "20\n"
     ]
    }
   ],
   "source": [
    "# muestro numeros duplicados\n",
    "\n",
    "for elementos in numeros:\n",
    "\n",
    "    print (elementos*2)"
   ]
  },
  {
   "cell_type": "code",
   "execution_count": 12,
   "metadata": {},
   "outputs": [
    {
     "name": "stdout",
     "output_type": "stream",
     "text": [
      "[4, 10, 16, 20]\n"
     ]
    }
   ],
   "source": [
    "#otra forma de mostrar los numeros duplicado\n",
    "\n",
    "numeros_duplicados= list()\n",
    "\n",
    "for elementos in numeros:\n",
    "    numeros_duplicados.append(elementos*2)\n",
    "\n",
    "print (numeros_duplicados)\n"
   ]
  },
  {
   "cell_type": "code",
   "execution_count": 15,
   "metadata": {},
   "outputs": [
    {
     "name": "stdout",
     "output_type": "stream",
     "text": [
      "[4, 10, 16, 20]\n"
     ]
    }
   ],
   "source": [
    "#otra forma de numeros duplicados\n",
    "#FOR en una linea de codigo\n",
    "\n",
    "numeros_duplicados= [elementos *2 for elementos  in numeros]\n",
    "\n",
    "print (numeros_duplicados)"
   ]
  }
 ],
 "metadata": {
  "kernelspec": {
   "display_name": "Python 3",
   "language": "python",
   "name": "python3"
  },
  "language_info": {
   "codemirror_mode": {
    "name": "ipython",
    "version": 3
   },
   "file_extension": ".py",
   "mimetype": "text/x-python",
   "name": "python",
   "nbconvert_exporter": "python",
   "pygments_lexer": "ipython3",
   "version": "3.9.5"
  }
 },
 "nbformat": 4,
 "nbformat_minor": 2
}
