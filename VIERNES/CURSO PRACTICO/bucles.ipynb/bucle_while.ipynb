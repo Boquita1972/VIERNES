{
 "cells": [
  {
   "cell_type": "markdown",
   "metadata": {},
   "source": [
    "                                                  BUCLE WHILE"
   ]
  },
  {
   "cell_type": "markdown",
   "metadata": {},
   "source": [
    "ESTE BUCLE A DIFERENCIA DEL FOR UTILIZA CONDICIONES Y SE EJECUTA MIENTRAS ESA CONDICION SEA VERDADERA"
   ]
  },
  {
   "cell_type": "code",
   "execution_count": 2,
   "metadata": {},
   "outputs": [
    {
     "name": "stdout",
     "output_type": "stream",
     "text": [
      "0\n",
      "1\n",
      "2\n",
      "3\n",
      "4\n",
      "5\n",
      "6\n",
      "7\n",
      "8\n",
      "9\n",
      "el  bucle llego a su fin\n"
     ]
    }
   ],
   "source": [
    "#mientras que la condicion se cumpla el bucle se va a ejecutar\n",
    "\n",
    "contador=0\n",
    "\n",
    "while contador < 10:\n",
    "    print (contador)\n",
    "    contador+=1\n",
    "print ('el  bucle llego a su fin')    "
   ]
  }
 ],
 "metadata": {
  "kernelspec": {
   "display_name": "Python 3",
   "language": "python",
   "name": "python3"
  },
  "language_info": {
   "codemirror_mode": {
    "name": "ipython",
    "version": 3
   },
   "file_extension": ".py",
   "mimetype": "text/x-python",
   "name": "python",
   "nbconvert_exporter": "python",
   "pygments_lexer": "ipython3",
   "version": "3.9.5"
  }
 },
 "nbformat": 4,
 "nbformat_minor": 2
}
