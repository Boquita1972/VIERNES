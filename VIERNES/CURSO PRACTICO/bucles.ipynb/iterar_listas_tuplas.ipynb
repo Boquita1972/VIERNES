{
 "cells": [
  {
   "cell_type": "markdown",
   "metadata": {},
   "source": [
    "                                 BUCLES FOR"
   ]
  },
  {
   "cell_type": "markdown",
   "metadata": {},
   "source": [
    "LOS BUCLES SON SETENCIAS QUE ME PERMITEN ITERAR UNA LISTA, TUPLA, CONJ,DICCIONARIO.\n",
    "ITERAR ES RECORRER LA LISTA.\n",
    "EL BUCLE SE EJECUTA TANTAS VECES COMO ELEMENTOS TENGA LA LISTA."
   ]
  },
  {
   "cell_type": "code",
   "execution_count": 2,
   "metadata": {},
   "outputs": [
    {
     "name": "stdout",
     "output_type": "stream",
     "text": [
      "ahora la variable 1 animal es:  gato\n",
      "ahora la var 2 animal es :gato\n",
      "ahora la variable 1 animal es:  perro\n",
      "ahora la var 2 animal es :perro\n",
      "ahora la variable 1 animal es:  loro\n",
      "ahora la var 2 animal es :loro\n",
      "ahora la variable 1 animal es:  cocodrilo\n",
      "ahora la var 2 animal es :cocodrilo\n"
     ]
    }
   ],
   "source": [
    "#iteramos listas\n",
    "\n",
    "animales= [\"gato\", \"perro\",\"loro\",\"cocodrilo\"]\n",
    "\n",
    "for elementos in animales:\n",
    "    print(\"ahora la variable 1 animal es: \",elementos)\n",
    "    print (f'ahora la var 2 animal es :{elementos}')  #lo mismo hecho con cadena f"
   ]
  },
  {
   "cell_type": "code",
   "execution_count": 3,
   "metadata": {},
   "outputs": [
    {
     "name": "stdout",
     "output_type": "stream",
     "text": [
      "230\n",
      "560\n",
      "770\n",
      "980\n"
     ]
    }
   ],
   "source": [
    "#iteramos la lista numeros y los multiplicamos x 10\n",
    "\n",
    "numeros= [23,56,77,98]\n",
    "\n",
    "for elementos in numeros:\n",
    "    resultado= elementos*10\n",
    "    print (resultado)"
   ]
  },
  {
   "cell_type": "code",
   "execution_count": 4,
   "metadata": {},
   "outputs": [
    {
     "name": "stdout",
     "output_type": "stream",
     "text": [
      "<class 'list'>\n",
      "<class 'list'>\n"
     ]
    }
   ],
   "source": [
    "print(type(numeros))\n",
    "print(type(animales))"
   ]
  },
  {
   "cell_type": "code",
   "execution_count": 5,
   "metadata": {},
   "outputs": [
    {
     "name": "stdout",
     "output_type": "stream",
     "text": [
      "recorriendo lista 1: gato\n",
      "recorriendo lista 2: 23\n",
      "recorriendo lista 1: perro\n",
      "recorriendo lista 2: 56\n",
      "recorriendo lista 1: loro\n",
      "recorriendo lista 2: 77\n",
      "recorriendo lista 1: cocodrilo\n",
      "recorriendo lista 2: 98\n"
     ]
    }
   ],
   "source": [
    "#con la funcion ZIP podemos iterar las 2 listas del mismo tamaño al unisono\n",
    "\n",
    "for animal,numero in zip(animales,numeros):\n",
    "    print(f'recorriendo lista 1: {animal}')\n",
    "    print(f'recorriendo lista 2: {numero}')"
   ]
  },
  {
   "cell_type": "code",
   "execution_count": 6,
   "metadata": {},
   "outputs": [
    {
     "name": "stdout",
     "output_type": "stream",
     "text": [
      "(0, 23)\n",
      "(1, 56)\n",
      "(2, 77)\n",
      "(3, 98)\n"
     ]
    }
   ],
   "source": [
    "#con lu funcion ENUMERATE recorro la lista obteniendo su indice.\n",
    "\n",
    "for elementos in enumerate(numeros):\n",
    "    print (elementos)\n",
    "    "
   ]
  },
  {
   "cell_type": "code",
   "execution_count": 7,
   "metadata": {},
   "outputs": [
    {
     "ename": "SyntaxError",
     "evalue": "invalid syntax (1885611954.py, line 3)",
     "output_type": "error",
     "traceback": [
      "\u001b[1;36m  Cell \u001b[1;32mIn[7], line 3\u001b[1;36m\u001b[0m\n\u001b[1;33m    elementos in enumerate(numeros):\u001b[0m\n\u001b[1;37m                                    ^\u001b[0m\n\u001b[1;31mSyntaxError\u001b[0m\u001b[1;31m:\u001b[0m invalid syntax\n"
     ]
    }
   ],
   "source": [
    "#muestra solo el indice\n",
    "\n",
    "elementos in enumerate(numeros):\n",
    "    print (elementos[0])              #muestra solo el indice\n",
    "    "
   ]
  },
  {
   "cell_type": "code",
   "execution_count": null,
   "metadata": {},
   "outputs": [
    {
     "name": "stdout",
     "output_type": "stream",
     "text": [
      "23\n",
      "56\n",
      "77\n",
      "98\n"
     ]
    }
   ],
   "source": [
    "#muestra solo los valores\n",
    "\n",
    "for elementos in enumerate(numeros):\n",
    "    print (elementos[1])              #muestra solo los valores"
   ]
  },
  {
   "cell_type": "code",
   "execution_count": null,
   "metadata": {},
   "outputs": [
    {
     "name": "stdout",
     "output_type": "stream",
     "text": [
      "el indice: 0 corresponde al valor: 23\n",
      "el indice: 0 corresponde al valor: 23\n",
      "el indice: 1 corresponde al valor: 56\n",
      "el indice: 1 corresponde al valor: 56\n",
      "el indice: 2 corresponde al valor: 77\n",
      "el indice: 2 corresponde al valor: 77\n",
      "el indice: 3 corresponde al valor: 98\n",
      "el indice: 3 corresponde al valor: 98\n"
     ]
    }
   ],
   "source": [
    "#resumiendo lo anterior\n",
    "\n",
    "for elementos in enumerate(numeros):\n",
    "    indice=elementos[0]\n",
    "    valor= elementos[1]\n",
    "    print (\"el indice:\",indice,\"corresponde al valor:\", valor)\n",
    "    print (f'el indice: {indice} corresponde al valor: {valor}') #cadena f"
   ]
  },
  {
   "cell_type": "code",
   "execution_count": null,
   "metadata": {},
   "outputs": [
    {
     "name": "stdout",
     "output_type": "stream",
     "text": [
      "ejecutamos el ultimo bucle, el valor es: 23\n",
      "ejecutamos el ultimo bucle, el valor es: 56\n",
      "ejecutamos el ultimo bucle, el valor es: 77\n",
      "ejecutamos el ultimo bucle, el valor es: 98\n",
      "fin del bucle\n"
     ]
    }
   ],
   "source": [
    "#agregamos ELSE\n",
    "\n",
    "for elementos in numeros:\n",
    "    print (f'ejecutamos el ultimo bucle, el valor es: {elementos}')\n",
    "else:\n",
    "    print(\"fin del bucle\")"
   ]
  }
 ],
 "metadata": {
  "kernelspec": {
   "display_name": "Python 3",
   "language": "python",
   "name": "python3"
  },
  "language_info": {
   "codemirror_mode": {
    "name": "ipython",
    "version": 3
   },
   "file_extension": ".py",
   "mimetype": "text/x-python",
   "name": "python",
   "nbconvert_exporter": "python",
   "pygments_lexer": "ipython3",
   "version": "3.9.5"
  }
 },
 "nbformat": 4,
 "nbformat_minor": 2
}
