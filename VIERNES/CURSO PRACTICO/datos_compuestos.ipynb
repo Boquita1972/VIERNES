{
 "cells": [
  {
   "cell_type": "markdown",
   "metadata": {},
   "source": [
    "LISTAS \n",
    "- cada variable agrupa muchos elementos / datos y las podemos modificar / redefinir.\n",
    "- van entre []\n",
    "- podemos acceder a elementos por indice\n",
    "- puede haber datos duplicados, me los muestra"
   ]
  },
  {
   "cell_type": "code",
   "execution_count": 89,
   "metadata": {},
   "outputs": [
    {
     "name": "stdout",
     "output_type": "stream",
     "text": [
      "['adrian', 'gonzalez', 55, 178, 'adrian']\n"
     ]
    }
   ],
   "source": [
    "lista= [\"adrian\", \"gonzalez\", 55, 178,\"adrian\"]\n",
    "\n",
    "print (lista)"
   ]
  },
  {
   "cell_type": "code",
   "execution_count": 90,
   "metadata": {},
   "outputs": [
    {
     "name": "stdout",
     "output_type": "stream",
     "text": [
      "178\n"
     ]
    }
   ],
   "source": [
    "#accedo a una ubicacion determinada de la lista (arranca a contar del indice 0)\n",
    "\n",
    "print (lista[3])"
   ]
  },
  {
   "cell_type": "code",
   "execution_count": 91,
   "metadata": {},
   "outputs": [],
   "source": [
    "#las listas las podemos modificar / redefinir\n",
    "\n",
    "lista[3]= \"maquinola\"\n",
    "\n"
   ]
  },
  {
   "cell_type": "code",
   "execution_count": 92,
   "metadata": {},
   "outputs": [
    {
     "data": {
      "text/plain": [
       "'maquinola'"
      ]
     },
     "execution_count": 92,
     "metadata": {},
     "output_type": "execute_result"
    }
   ],
   "source": [
    "#antes en el indice 3 estaba 178 y ahora esta maquinola\n",
    "\n",
    "lista [3]"
   ]
  },
  {
   "cell_type": "markdown",
   "metadata": {},
   "source": [
    "                                     -----------------------------------------"
   ]
  },
  {
   "cell_type": "markdown",
   "metadata": {},
   "source": [
    "TUPLAS\n",
    "- cada variable agrupa muchos elementos / datos y NO las podemos modificar / redefinir.\n",
    "- van entre ()\n",
    "- podemos acceder a elementos por indice\n",
    "- puede haber datos duplicados, me los muestra"
   ]
  },
  {
   "cell_type": "code",
   "execution_count": 93,
   "metadata": {},
   "outputs": [
    {
     "name": "stdout",
     "output_type": "stream",
     "text": [
      "('adrian', 'gonzalez', 55, 178, 'adrian')\n"
     ]
    }
   ],
   "source": [
    "tupla= (\"adrian\", \"gonzalez\", 55, 178,\"adrian\")\n",
    "\n",
    "print (tupla)"
   ]
  },
  {
   "cell_type": "code",
   "execution_count": 94,
   "metadata": {},
   "outputs": [
    {
     "name": "stdout",
     "output_type": "stream",
     "text": [
      "178\n"
     ]
    }
   ],
   "source": [
    "#tambien accedo a una ubicacion en la tupla\n",
    "print (tupla [3])"
   ]
  },
  {
   "cell_type": "code",
   "execution_count": 95,
   "metadata": {},
   "outputs": [
    {
     "ename": "TypeError",
     "evalue": "'tuple' object does not support item assignment",
     "output_type": "error",
     "traceback": [
      "\u001b[1;31m---------------------------------------------------------------------------\u001b[0m",
      "\u001b[1;31mTypeError\u001b[0m                                 Traceback (most recent call last)",
      "\u001b[1;32mc:\\Users\\gonzaleza\\Desktop\\DOMINGO\\CURSO PRACTICO\\datos_compuestos.ipynb Celda 10\u001b[0m line \u001b[0;36m3\n\u001b[0;32m      <a href='vscode-notebook-cell:/c%3A/Users/gonzaleza/Desktop/DOMINGO/CURSO%20PRACTICO/datos_compuestos.ipynb#X12sZmlsZQ%3D%3D?line=0'>1</a>\u001b[0m \u001b[39m# las tuplas no las podemos modificar / redefinir\u001b[39;00m\n\u001b[1;32m----> <a href='vscode-notebook-cell:/c%3A/Users/gonzaleza/Desktop/DOMINGO/CURSO%20PRACTICO/datos_compuestos.ipynb#X12sZmlsZQ%3D%3D?line=2'>3</a>\u001b[0m tupla[\u001b[39m3\u001b[39;49m]\u001b[39m=\u001b[39m \u001b[39m\"\u001b[39m\u001b[39mmaquinola\u001b[39m\u001b[39m\"\u001b[39m\n",
      "\u001b[1;31mTypeError\u001b[0m: 'tuple' object does not support item assignment"
     ]
    }
   ],
   "source": [
    "# las tuplas no las podemos modificar / redefinir\n",
    "\n",
    "tupla[3]= \"maquinola\"\n",
    "\n"
   ]
  },
  {
   "cell_type": "markdown",
   "metadata": {},
   "source": [
    "                                     -----------------------------------"
   ]
  },
  {
   "cell_type": "markdown",
   "metadata": {},
   "source": [
    "CONJUNTO (SET)\n",
    "- cada variable agrupa muchos elementos / datos y NO las podemos modificar / redefinir.\n",
    "- van entre {}\n",
    "- NO podemos acceder a elementos por indice, para ello necesitamos de los BUCLES.\n",
    "- NO puede haber datos duplicados, no me los muestra."
   ]
  },
  {
   "cell_type": "code",
   "execution_count": null,
   "metadata": {},
   "outputs": [
    {
     "name": "stdout",
     "output_type": "stream",
     "text": [
      "{'gonzalez', 178, 'adrian', 55}\n"
     ]
    }
   ],
   "source": [
    "set= {\"adrian\", \"gonzalez\", 55, 178,\"adrian\"}\n",
    "\n",
    "print (set)"
   ]
  },
  {
   "cell_type": "code",
   "execution_count": 96,
   "metadata": {},
   "outputs": [
    {
     "ename": "TypeError",
     "evalue": "'set' object does not support item assignment",
     "output_type": "error",
     "traceback": [
      "\u001b[1;31m---------------------------------------------------------------------------\u001b[0m",
      "\u001b[1;31mTypeError\u001b[0m                                 Traceback (most recent call last)",
      "\u001b[1;32mc:\\Users\\gonzaleza\\Desktop\\DOMINGO\\CURSO PRACTICO\\datos_compuestos.ipynb Celda 14\u001b[0m line \u001b[0;36m3\n\u001b[0;32m      <a href='vscode-notebook-cell:/c%3A/Users/gonzaleza/Desktop/DOMINGO/CURSO%20PRACTICO/datos_compuestos.ipynb#X16sZmlsZQ%3D%3D?line=0'>1</a>\u001b[0m \u001b[39m# no las podemos modificar / redefinir\u001b[39;00m\n\u001b[1;32m----> <a href='vscode-notebook-cell:/c%3A/Users/gonzaleza/Desktop/DOMINGO/CURSO%20PRACTICO/datos_compuestos.ipynb#X16sZmlsZQ%3D%3D?line=2'>3</a>\u001b[0m \u001b[39mset\u001b[39;49m[\u001b[39m2\u001b[39;49m]\u001b[39m=\u001b[39m \u001b[39m\"\u001b[39m\u001b[39mmaquinola\u001b[39m\u001b[39m\"\u001b[39m\n",
      "\u001b[1;31mTypeError\u001b[0m: 'set' object does not support item assignment"
     ]
    }
   ],
   "source": [
    "# no las podemos modificar / redefinir\n",
    "\n",
    "set[2]= \"maquinola\""
   ]
  },
  {
   "cell_type": "code",
   "execution_count": null,
   "metadata": {},
   "outputs": [
    {
     "ename": "TypeError",
     "evalue": "'set' object is not subscriptable",
     "output_type": "error",
     "traceback": [
      "\u001b[1;31m---------------------------------------------------------------------------\u001b[0m",
      "\u001b[1;31mTypeError\u001b[0m                                 Traceback (most recent call last)",
      "\u001b[1;32mc:\\Users\\gonzaleza\\Desktop\\DOMINGO\\CURSO PRACTICO\\datos_compuestos.ipynb Celda 13\u001b[0m line \u001b[0;36m1\n\u001b[1;32m----> <a href='vscode-notebook-cell:/c%3A/Users/gonzaleza/Desktop/DOMINGO/CURSO%20PRACTICO/datos_compuestos.ipynb#X20sZmlsZQ%3D%3D?line=0'>1</a>\u001b[0m \u001b[39mprint\u001b[39m (\u001b[39mset\u001b[39;49m[\u001b[39m3\u001b[39;49m])\n",
      "\u001b[1;31mTypeError\u001b[0m: 'set' object is not subscriptable"
     ]
    }
   ],
   "source": [
    "#no podemos acceder por el indice\n",
    "\n",
    "print (set[3])"
   ]
  },
  {
   "cell_type": "markdown",
   "metadata": {},
   "source": [
    "                                      ----------------------------------"
   ]
  },
  {
   "cell_type": "markdown",
   "metadata": {},
   "source": [
    "DICCIONARIO\n",
    "- su estructura es clave : valor\n",
    "- cada variable agrupa muchos elementos / datos y NO las podemos modificar / redefinir.\n",
    "- van entre {}\n",
    "- podemos acceder a elementos por indice por clave\n",
    "- puede haber datos duplicados, me los muestra."
   ]
  },
  {
   "cell_type": "code",
   "execution_count": null,
   "metadata": {},
   "outputs": [],
   "source": [
    "diccionario={\n",
    "    \"nombre\": \"adrian\", \n",
    "    \"apellido\": \"gonzalez\", \n",
    "    \"edad\": 55, \n",
    "    \"altura\": 178,\n",
    "    \"dato duplicado\": \"adrian\"}"
   ]
  },
  {
   "cell_type": "code",
   "execution_count": null,
   "metadata": {},
   "outputs": [
    {
     "name": "stdout",
     "output_type": "stream",
     "text": [
      "{'nombre': 'adrian', 'apellido': 'gonzalez', 'edad': 55, 'altura': 178, 'dato duplicado': 'adrian'}\n"
     ]
    }
   ],
   "source": [
    "# imprimo todo clave - valor\n",
    "\n",
    "print (diccionario)"
   ]
  },
  {
   "cell_type": "code",
   "execution_count": null,
   "metadata": {},
   "outputs": [
    {
     "name": "stdout",
     "output_type": "stream",
     "text": [
      "178\n"
     ]
    }
   ],
   "source": [
    "# mediante su clave accedo a  un elemento especifico\n",
    "\n",
    "print (diccionario[\"altura\"])"
   ]
  },
  {
   "cell_type": "code",
   "execution_count": null,
   "metadata": {},
   "outputs": [
    {
     "name": "stdout",
     "output_type": "stream",
     "text": [
      "180\n"
     ]
    }
   ],
   "source": [
    "# a la altura le sumo 2\n",
    "\n",
    "print(diccionario[\"altura\"] + 2)"
   ]
  },
  {
   "cell_type": "code",
   "execution_count": 97,
   "metadata": {},
   "outputs": [
    {
     "ename": "NameError",
     "evalue": "name 'altura' is not defined",
     "output_type": "error",
     "traceback": [
      "\u001b[1;31m---------------------------------------------------------------------------\u001b[0m",
      "\u001b[1;31mNameError\u001b[0m                                 Traceback (most recent call last)",
      "\u001b[1;32mc:\\Users\\gonzaleza\\Desktop\\DOMINGO\\CURSO PRACTICO\\datos_compuestos.ipynb Celda 22\u001b[0m line \u001b[0;36m1\n\u001b[1;32m----> <a href='vscode-notebook-cell:/c%3A/Users/gonzaleza/Desktop/DOMINGO/CURSO%20PRACTICO/datos_compuestos.ipynb#X32sZmlsZQ%3D%3D?line=0'>1</a>\u001b[0m diccionario [altura ] \u001b[39m=\u001b[39m \u001b[39m\"\u001b[39m\u001b[39mmaquinola\u001b[39m\u001b[39m\"\u001b[39m\n",
      "\u001b[1;31mNameError\u001b[0m: name 'altura' is not defined"
     ]
    }
   ],
   "source": [
    "diccionario [altura] = \"maquinola\""
   ]
  }
 ],
 "metadata": {
  "kernelspec": {
   "display_name": "Python 3",
   "language": "python",
   "name": "python3"
  },
  "language_info": {
   "codemirror_mode": {
    "name": "ipython",
    "version": 3
   },
   "file_extension": ".py",
   "mimetype": "text/x-python",
   "name": "python",
   "nbconvert_exporter": "python",
   "pygments_lexer": "ipython3",
   "version": "3.9.5"
  }
 },
 "nbformat": 4,
 "nbformat_minor": 2
}
