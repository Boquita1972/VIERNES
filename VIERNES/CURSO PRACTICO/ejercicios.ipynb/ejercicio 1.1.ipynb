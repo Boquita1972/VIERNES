{
 "cells": [
  {
   "cell_type": "markdown",
   "metadata": {},
   "source": [
    "DATOS"
   ]
  },
  {
   "cell_type": "code",
   "execution_count": 108,
   "metadata": {},
   "outputs": [],
   "source": [
    "curso_dalto= 1.5\n",
    "mas_rapido_otros=2.5\n",
    "mas_lento_otros=7\n",
    "crudo_dalto=3.5\n",
    "crudo_otros=5 \n",
    "promedio_otros=4"
   ]
  },
  {
   "cell_type": "markdown",
   "metadata": {},
   "source": [
    "DIFERENCIAS"
   ]
  },
  {
   "cell_type": "code",
   "execution_count": 109,
   "metadata": {},
   "outputs": [
    {
     "name": "stdout",
     "output_type": "stream",
     "text": [
      "40.0\n"
     ]
    }
   ],
   "source": [
    "curso_dalto_vs_mas_rapido_otros= 100-(curso_dalto*100/mas_rapido_otros)\n",
    "print (curso_dalto_vs_mas_rapido_otros)"
   ]
  },
  {
   "cell_type": "code",
   "execution_count": 110,
   "metadata": {},
   "outputs": [
    {
     "name": "stdout",
     "output_type": "stream",
     "text": [
      "78.6\n"
     ]
    }
   ],
   "source": [
    "curso_dalto_vs_mas_lento_otros= 100-(curso_dalto*1000//mas_lento_otros/10)\n",
    "print (curso_dalto_vs_mas_lento_otros)"
   ]
  },
  {
   "cell_type": "code",
   "execution_count": 111,
   "metadata": {},
   "outputs": [
    {
     "name": "stdout",
     "output_type": "stream",
     "text": [
      "62.5\n"
     ]
    }
   ],
   "source": [
    "curso_dalto_vs_promedio_otros= 100-(curso_dalto*1000//promedio_otros/10)\n",
    "print (curso_dalto_vs_promedio_otros)"
   ]
  },
  {
   "cell_type": "code",
   "execution_count": 162,
   "metadata": {},
   "outputs": [
    {
     "name": "stdout",
     "output_type": "stream",
     "text": [
      "el curso de dalto dura un:\n",
      "40.0 % menos que el mas rapido de los otros cursos\n",
      "78.6 % menos que el mas lento de los otros cursos\n",
      "62.5 % menos que el promedio de los otros cursos\n"
     ]
    }
   ],
   "source": [
    "print (\"el curso de dalto dura un:\")\n",
    "print (( curso_dalto_vs_mas_rapido_otros),\"% menos que el mas rapido de los otros cursos\")\n",
    "print (( curso_dalto_vs_mas_lento_otros),\"% menos que el mas lento de los otros cursos\")\n",
    "print (( curso_dalto_vs_promedio_otros),\"% menos que el promedio de los otros cursos\")"
   ]
  },
  {
   "cell_type": "markdown",
   "metadata": {},
   "source": [
    "----------------------------------------------------------------------------------------------------------------------------------------------"
   ]
  },
  {
   "cell_type": "markdown",
   "metadata": {},
   "source": [
    "B) calcular porcentaje de material inservible"
   ]
  },
  {
   "cell_type": "code",
   "execution_count": 113,
   "metadata": {},
   "outputs": [],
   "source": [
    "crudo_dalto=3.5\n",
    "curso_dalto=1.5\n",
    "m_i_curso_dalto= 2         # (crudo_dalto - curso_dalto)=m_i_curso_dalto\n",
    "crudo_prom_otros_cursos=5 \n",
    "prom_otros_cursos=4\n",
    "m_i_prom_otros_cursos=1    #(crudo_prom_otros_cursos - prom_otros_cursos)= m_i_prom_otros_cursos"
   ]
  },
  {
   "cell_type": "code",
   "execution_count": 114,
   "metadata": {},
   "outputs": [
    {
     "name": "stdout",
     "output_type": "stream",
     "text": [
      "57.1\n",
      "20\n"
     ]
    }
   ],
   "source": [
    "porcentaje_m_i_curso_dalto= (m_i_curso_dalto*1000//crudo_dalto/10)\n",
    "print (porcentaje_m_i_curso_dalto)\n",
    "\n",
    "porcentaje_m_i_otros_cursos= (m_i_prom_otros_cursos*100//crudo_prom_otros_cursos)\n",
    "print (porcentaje_m_i_otros_cursos)\n",
    "\n"
   ]
  },
  {
   "cell_type": "code",
   "execution_count": 115,
   "metadata": {},
   "outputs": [
    {
     "name": "stdout",
     "output_type": "stream",
     "text": [
      "el curso de dalto tiene un: 57.1 % de material inservible.\n",
      "los otros cursos tienen un: 20 % de material inservible.\n"
     ]
    }
   ],
   "source": [
    "print (\"el curso de dalto tiene un:\", (porcentaje_m_i_curso_dalto), \"% de material inservible.\")\n",
    "print (\"los otros cursos tienen un:\",(porcentaje_m_i_otros_cursos), \"% de material inservible.\")"
   ]
  },
  {
   "cell_type": "markdown",
   "metadata": {},
   "source": [
    "-----------------------------------------------------------------------------------------------------------------------------------------"
   ]
  },
  {
   "cell_type": "markdown",
   "metadata": {},
   "source": [
    "C) VER 10 HS DEL CURSO DE DALTON A CUANTAS HORAS DEL OTRO CURSO EQUIVALEN"
   ]
  },
  {
   "cell_type": "code",
   "execution_count": 136,
   "metadata": {},
   "outputs": [
    {
     "name": "stdout",
     "output_type": "stream",
     "text": [
      "26.6\n"
     ]
    }
   ],
   "source": [
    "curso_dalto=1.5\n",
    "prom_otros_cursos=4\n",
    "\n",
    "equivalencia= (prom_otros_cursos * 100 // (curso_dalto)/10)\n",
    "\n",
    "print (equivalencia)"
   ]
  },
  {
   "cell_type": "code",
   "execution_count": 137,
   "metadata": {},
   "outputs": [
    {
     "name": "stdout",
     "output_type": "stream",
     "text": [
      "ver 10hs del curso de dalton equivalea a mirar 26.6 hs de los otros cursos\n",
      "ver 10hs del curso de dalton equivalea a mirar 26.6 hs de los otros cursos\n"
     ]
    }
   ],
   "source": [
    "print(\"ver 10hs del curso de dalton equivalea a mirar\",(equivalencia), \"hs de los otros cursos\")\n",
    "\n",
    "print( f'ver 10hs del curso de dalton equivalea a mirar {equivalencia} hs de los otros cursos')"
   ]
  },
  {
   "cell_type": "markdown",
   "metadata": {},
   "source": [
    "D) VER 10 HS DE OTROS CURSO A CUANTAS HORAS DEL CURSO  DE DALTON EQUIVALEN"
   ]
  },
  {
   "cell_type": "code",
   "execution_count": 146,
   "metadata": {},
   "outputs": [
    {
     "name": "stdout",
     "output_type": "stream",
     "text": [
      "3.75\n"
     ]
    }
   ],
   "source": [
    "curso_dalto=1.5\n",
    "prom_otros_cursos=4\n",
    "\n",
    "equivalencia= (curso_dalto * 10) / (prom_otros_cursos)\n",
    "\n",
    "print (equivalencia)"
   ]
  },
  {
   "cell_type": "code",
   "execution_count": 147,
   "metadata": {},
   "outputs": [
    {
     "name": "stdout",
     "output_type": "stream",
     "text": [
      "ver 10hs de otrod cursos equivale a a mirar 3.75 hs del curso de dalton\n"
     ]
    }
   ],
   "source": [
    "print( f'ver 10hs de otrod cursos equivale a a mirar {equivalencia} hs del curso de dalton')"
   ]
  }
 ],
 "metadata": {
  "kernelspec": {
   "display_name": "Python 3",
   "language": "python",
   "name": "python3"
  },
  "language_info": {
   "codemirror_mode": {
    "name": "ipython",
    "version": 3
   },
   "file_extension": ".py",
   "mimetype": "text/x-python",
   "name": "python",
   "nbconvert_exporter": "python",
   "pygments_lexer": "ipython3",
   "version": "3.9.5"
  }
 },
 "nbformat": 4,
 "nbformat_minor": 2
}
