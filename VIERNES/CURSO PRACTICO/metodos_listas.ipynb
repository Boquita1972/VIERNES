{
 "cells": [
  {
   "cell_type": "markdown",
   "metadata": {},
   "source": [
    "                         FUNCIONES LISTA"
   ]
  },
  {
   "cell_type": "code",
   "execution_count": 1,
   "metadata": {},
   "outputs": [
    {
     "name": "stdout",
     "output_type": "stream",
     "text": [
      "13\n"
     ]
    }
   ],
   "source": [
    "#LEN (es una funcion por eso va adelante) \n",
    "#devuelve un valor entero que indica la cantidad de caracteres en la cadena.\n",
    "\n",
    "lista= \"hola soy adri\"\n",
    "\n",
    "resultado = len(lista)   \n",
    "\n",
    "print (resultado)"
   ]
  },
  {
   "cell_type": "code",
   "execution_count": 44,
   "metadata": {},
   "outputs": [
    {
     "name": "stdout",
     "output_type": "stream",
     "text": [
      "3\n"
     ]
    }
   ],
   "source": [
    "#si es una tupla o lista cuenta la cantidad de elementos.\n",
    "\n",
    "lista= [\"hola\", \"soy\", \"adri\"]\n",
    "\n",
    "resultado = len(lista)   \n",
    "\n",
    "print (resultado)"
   ]
  },
  {
   "cell_type": "code",
   "execution_count": 45,
   "metadata": {},
   "outputs": [
    {
     "name": "stdout",
     "output_type": "stream",
     "text": [
      "['hola', 'soy', 'adri', 'hermoso']\n"
     ]
    }
   ],
   "source": [
    "#APPEND agrega elementos al final de la lista\n",
    "\n",
    "lista= [\"hola\", \"soy\", \"adri\"]\n",
    "\n",
    "lista.append(\"hermoso\")   \n",
    "\n",
    "print (lista)"
   ]
  },
  {
   "cell_type": "code",
   "execution_count": 46,
   "metadata": {},
   "outputs": [
    {
     "name": "stdout",
     "output_type": "stream",
     "text": [
      "['hola', 'inteligente', 'soy', 'adri']\n"
     ]
    }
   ],
   "source": [
    "#INSERT agrega un elemento a la  lista en un indice especifico\n",
    "\n",
    "lista= [\"hola\", \"soy\", \"adri\"]\n",
    "\n",
    "lista.insert(1,\"inteligente\")  \n",
    "\n",
    "print (lista)"
   ]
  },
  {
   "cell_type": "code",
   "execution_count": 50,
   "metadata": {},
   "outputs": [
    {
     "name": "stdout",
     "output_type": "stream",
     "text": [
      "['hola', 'soy', 'adri', 'hermoso', 'e', 'inteligente']\n"
     ]
    }
   ],
   "source": [
    "#EXTEND agrega una lista al final.\n",
    "#lleva ([])\n",
    "\n",
    "lista= [\"hola\", \"soy\", \"adri\"]\n",
    "\n",
    "lista.extend([\"hermoso\", \"e\", \"inteligente\"])   \n",
    "\n",
    "print (lista)"
   ]
  },
  {
   "cell_type": "code",
   "execution_count": 54,
   "metadata": {},
   "outputs": [
    {
     "name": "stdout",
     "output_type": "stream",
     "text": [
      "['hola', 'soy', 'adri']\n",
      "3\n",
      "['hola', 'adri']\n",
      "2\n"
     ]
    }
   ],
   "source": [
    "#POP  elimina elementos de la lista por su indice\n",
    "\n",
    "lista= [\"hola\", \"soy\", \"adri\"]\n",
    "\n",
    "print (lista)\n",
    "print (len(lista))\n",
    "\n",
    "lista.pop(1)   #elimino el elemento del indice 1\n",
    "\n",
    "print (lista)\n",
    "print (len(lista))"
   ]
  },
  {
   "cell_type": "code",
   "execution_count": 55,
   "metadata": {},
   "outputs": [
    {
     "name": "stdout",
     "output_type": "stream",
     "text": [
      "['hola', 'soy', 'adri']\n",
      "3\n",
      "['soy', 'adri']\n",
      "2\n"
     ]
    }
   ],
   "source": [
    "#REMOVE  elimina elementos de la lista por su nombre\n",
    "\n",
    "lista= [\"hola\", \"soy\", \"adri\"]\n",
    "\n",
    "print (lista)\n",
    "print (len(lista))\n",
    "\n",
    "lista.remove(\"hola\")   \n",
    "\n",
    "print (lista)\n",
    "print (len(lista))"
   ]
  },
  {
   "cell_type": "code",
   "execution_count": 59,
   "metadata": {},
   "outputs": [
    {
     "name": "stdout",
     "output_type": "stream",
     "text": [
      "['bola', 'coy', 'adri']\n",
      "['adri', 'bola', 'coy']\n"
     ]
    }
   ],
   "source": [
    "#SORT ordena  alfabetica y ascendente los elementos de la lista.\n",
    "\n",
    "lista= [\"bola\", \"coy\", \"adri\"]\n",
    "\n",
    "print (lista)\n",
    "\n",
    "lista.sort()   \n",
    "\n",
    "print (lista)"
   ]
  },
  {
   "cell_type": "code",
   "execution_count": 60,
   "metadata": {},
   "outputs": [
    {
     "name": "stdout",
     "output_type": "stream",
     "text": [
      "['bola', 'coy', 'adri']\n",
      "['adri', 'coy', 'bola']\n"
     ]
    }
   ],
   "source": [
    "#REVERSE invierte de atras hacia adelante los elementos de la lista.\n",
    "\n",
    "lista= [\"bola\", \"coy\", \"adri\"]\n",
    "\n",
    "print (lista)\n",
    "\n",
    "lista.reverse()   \n",
    "\n",
    "print (lista)"
   ]
  }
 ],
 "metadata": {
  "kernelspec": {
   "display_name": "Python 3",
   "language": "python",
   "name": "python3"
  },
  "language_info": {
   "codemirror_mode": {
    "name": "ipython",
    "version": 3
   },
   "file_extension": ".py",
   "mimetype": "text/x-python",
   "name": "python",
   "nbconvert_exporter": "python",
   "pygments_lexer": "ipython3",
   "version": "3.9.5"
  }
 },
 "nbformat": 4,
 "nbformat_minor": 2
}
