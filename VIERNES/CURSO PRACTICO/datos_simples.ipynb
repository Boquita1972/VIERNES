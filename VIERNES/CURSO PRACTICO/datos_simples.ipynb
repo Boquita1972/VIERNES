{
 "cells": [
  {
   "cell_type": "markdown",
   "metadata": {},
   "source": [
    "DATOS SIMPLES"
   ]
  },
  {
   "cell_type": "markdown",
   "metadata": {},
   "source": [
    "- TEXTO es un STRING y se escribe entre comillas (string significa cadena)\n",
    "- NUMEROS estan los enteros 2 que los llamamos INT y los decimales 4.5 que los llamamos FLOAT.\n",
    "- BOOLEANOS True o False "
   ]
  },
  {
   "cell_type": "markdown",
   "metadata": {},
   "source": [
    "----------------------------------------------------------------------------------------------------------------"
   ]
  },
  {
   "cell_type": "markdown",
   "metadata": {},
   "source": [
    "VARIABLES ( almacenan datos y pueden variar) las variable se declararan a y se definen 5\n",
    "- a= 5"
   ]
  },
  {
   "cell_type": "markdown",
   "metadata": {},
   "source": [
    "CONCATENAR es unir 2 o mas variables\n",
    "- una forma seria: (no funciona con numeros)"
   ]
  },
  {
   "cell_type": "code",
   "execution_count": 19,
   "metadata": {},
   "outputs": [
    {
     "name": "stdout",
     "output_type": "stream",
     "text": [
      "hola adri ¿como estas?\n"
     ]
    }
   ],
   "source": [
    "nombre= \"adri\"\n",
    "bienvenida= \"hola \" + nombre + \" ¿como estas?\"\n",
    "\n",
    "print (bienvenida)"
   ]
  },
  {
   "cell_type": "markdown",
   "metadata": {},
   "source": [
    "- otra forma de concatenar con cadenas F (funciona con todo)"
   ]
  },
  {
   "cell_type": "code",
   "execution_count": 20,
   "metadata": {},
   "outputs": [
    {
     "name": "stdout",
     "output_type": "stream",
     "text": [
      "hola  adri  ¿como estas?\n"
     ]
    }
   ],
   "source": [
    "nombre= \"adri\"\n",
    "bienvenida= f\"hola  {nombre}  ¿como estas?\"\n",
    "\n",
    "print (bienvenida)"
   ]
  },
  {
   "cell_type": "markdown",
   "metadata": {},
   "source": [
    "-----------------------------------------------------------------------------------------------------------------"
   ]
  },
  {
   "cell_type": "markdown",
   "metadata": {},
   "source": [
    "OPERADORES DE PERTENENCIA\n",
    "- IN"
   ]
  },
  {
   "cell_type": "code",
   "execution_count": 21,
   "metadata": {},
   "outputs": [
    {
     "name": "stdout",
     "output_type": "stream",
     "text": [
      "True\n"
     ]
    }
   ],
   "source": [
    "nombre= \"adri\"\n",
    "bienvenida= \"hola \" + nombre + \" ¿como estas?\"\n",
    "\n",
    "print (\"ola\" in (bienvenida)) # ola esta en bienvenida y lo encuentra y me devuelve true"
   ]
  },
  {
   "cell_type": "markdown",
   "metadata": {},
   "source": [
    "- not in"
   ]
  },
  {
   "cell_type": "code",
   "execution_count": 24,
   "metadata": {},
   "outputs": [
    {
     "name": "stdout",
     "output_type": "stream",
     "text": [
      "False\n"
     ]
    }
   ],
   "source": [
    "nombre= \"adri\"\n",
    "bienvenida= \"hola \" + nombre + \" ¿como estas?\"\n",
    "\n",
    "print (\"ola\" not in (bienvenida)) # ola no esta en bienvenida y como lo encuentra y me devuelve false"
   ]
  },
  {
   "cell_type": "code",
   "execution_count": 25,
   "metadata": {},
   "outputs": [
    {
     "name": "stdout",
     "output_type": "stream",
     "text": [
      "True\n"
     ]
    }
   ],
   "source": [
    "nombre= \"adri\"\n",
    "bienvenida= \"hola \" + nombre + \" ¿como estas?\"\n",
    "\n",
    "print (\"pola\" not in (bienvenida)) # pola no esta en bienvenida y como no lo encuentra y me devuelve true"
   ]
  }
 ],
 "metadata": {
  "kernelspec": {
   "display_name": "Python 3",
   "language": "python",
   "name": "python3"
  },
  "language_info": {
   "codemirror_mode": {
    "name": "ipython",
    "version": 3
   },
   "file_extension": ".py",
   "mimetype": "text/x-python",
   "name": "python",
   "nbconvert_exporter": "python",
   "pygments_lexer": "ipython3",
   "version": "3.9.5"
  }
 },
 "nbformat": 4,
 "nbformat_minor": 2
}
