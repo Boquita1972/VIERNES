{
 "cells": [
  {
   "cell_type": "code",
   "execution_count": 1,
   "metadata": {},
   "outputs": [
    {
     "name": "stdout",
     "output_type": "stream",
     "text": [
      "18\n"
     ]
    }
   ],
   "source": [
    "#suma lista, no es optima\n",
    "\n",
    "def suma (lista):\n",
    "    numeros_sumados=0\n",
    "    for elementos in lista:\n",
    "        numeros_sumados= numeros_sumados+elementos\n",
    "    return numeros_sumados \n",
    "\n",
    "resultado= suma ([2,3,5,8])\n",
    "print (resultado)  "
   ]
  },
  {
   "cell_type": "code",
   "execution_count": 2,
   "metadata": {},
   "outputs": [
    {
     "name": "stdout",
     "output_type": "stream",
     "text": [
      "27\n"
     ]
    }
   ],
   "source": [
    "#utilizamos *args\n",
    "\n",
    "def suma (*elementos):\n",
    "    return sum (elementos)\n",
    "\n",
    "resultado =suma (4,5,6,8,4)\n",
    "print (resultado)"
   ]
  }
 ],
 "metadata": {
  "kernelspec": {
   "display_name": "Python 3",
   "language": "python",
   "name": "python3"
  },
  "language_info": {
   "codemirror_mode": {
    "name": "ipython",
    "version": 3
   },
   "file_extension": ".py",
   "mimetype": "text/x-python",
   "name": "python",
   "nbconvert_exporter": "python",
   "pygments_lexer": "ipython3",
   "version": "3.9.5"
  }
 },
 "nbformat": 4,
 "nbformat_minor": 2
}
