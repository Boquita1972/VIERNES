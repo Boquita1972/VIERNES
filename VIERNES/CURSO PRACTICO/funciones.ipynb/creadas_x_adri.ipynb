{
 "cells": [
  {
   "cell_type": "code",
   "execution_count": 3,
   "metadata": {},
   "outputs": [],
   "source": [
    "#creando una funcion simple\n",
    "\n",
    "def saludar():\n",
    "    print ('hola adri genio, como estas!!')"
   ]
  },
  {
   "cell_type": "code",
   "execution_count": 8,
   "metadata": {},
   "outputs": [
    {
     "name": "stdout",
     "output_type": "stream",
     "text": [
      "hola adri genio, como estas!!\n",
      "hola adri genio, como estas!!\n"
     ]
    }
   ],
   "source": [
    "#ejecutando la funcion\n",
    "\n",
    "saludar()\n",
    "saludar()\n"
   ]
  },
  {
   "cell_type": "code",
   "execution_count": 41,
   "metadata": {},
   "outputs": [],
   "source": [
    "def saludar(nombre,sexo):\n",
    "\n",
    "    nombre= nombre.lower()       #lower() hace que el prog reconozca por mas que \n",
    "                                 #escribamos en mayusculas\n",
    "    sexo = sexo.lower()\n",
    "\n",
    "    if sexo=='mujer':\n",
    "        adjetivo= ('mi reina!!')\n",
    "\n",
    "    elif sexo== 'hombre':\n",
    "        adjetivo= ('mi rey!!')\n",
    "\n",
    "    else:\n",
    "        adjetivo= ('master!!!')\n",
    "\n",
    "    print (f'hola {nombre},como estas {adjetivo} ')        \n"
   ]
  },
  {
   "cell_type": "code",
   "execution_count": 43,
   "metadata": {},
   "outputs": [
    {
     "name": "stdout",
     "output_type": "stream",
     "text": [
      "hola adri,como estas mi rey!! \n"
     ]
    }
   ],
   "source": [
    "saludar ('Adri','HOMBRE')"
   ]
  },
  {
   "cell_type": "markdown",
   "metadata": {},
   "source": []
  }
 ],
 "metadata": {
  "kernelspec": {
   "display_name": "Python 3",
   "language": "python",
   "name": "python3"
  },
  "language_info": {
   "codemirror_mode": {
    "name": "ipython",
    "version": 3
   },
   "file_extension": ".py",
   "mimetype": "text/x-python",
   "name": "python",
   "nbconvert_exporter": "python",
   "pygments_lexer": "ipython3",
   "version": "3.9.5"
  }
 },
 "nbformat": 4,
 "nbformat_minor": 2
}
