{
 "cells": [
  {
   "cell_type": "markdown",
   "metadata": {},
   "source": [
    "LOS PARAMETROS SON VARIABLES QUE SE CREAN PARA SER USADAS DENTRO DE UNA FUNCION.\n",
    "LOS BUCLES SON UNA SENTENCIA QUE NOS PERMITE ITERAR UN ELEMENTO."
   ]
  },
  {
   "cell_type": "code",
   "execution_count": 24,
   "metadata": {},
   "outputs": [
    {
     "name": "stdout",
     "output_type": "stream",
     "text": [
      "55\n"
     ]
    }
   ],
   "source": [
    "#FUNCION MAX nos encuentra el numero mas alto.\n",
    "numeros= (2,5,8,9,23,55)\n",
    "\n",
    "numero_mas_alto= max(numeros)\n",
    "\n",
    "print (numero_mas_alto)\n"
   ]
  },
  {
   "cell_type": "code",
   "execution_count": 25,
   "metadata": {},
   "outputs": [
    {
     "name": "stdout",
     "output_type": "stream",
     "text": [
      "2\n"
     ]
    }
   ],
   "source": [
    "#FUNCION MIN nos encuentra el numero mas bajo.\n",
    "numeros= (2,5,8,9,23,55)\n",
    "\n",
    "numero_mas_bajo= min(numeros)\n",
    "\n",
    "print (numero_mas_bajo)"
   ]
  },
  {
   "cell_type": "code",
   "execution_count": 26,
   "metadata": {},
   "outputs": [
    {
     "name": "stdout",
     "output_type": "stream",
     "text": [
      "12.345678\n"
     ]
    }
   ],
   "source": [
    "#FUNCION ROUND nos permite mostrar la cantidad de decimales que queremos.\n",
    "\n",
    "numero=12.345678\n",
    "\n",
    "print (numero)\n",
    "\n"
   ]
  },
  {
   "cell_type": "code",
   "execution_count": 27,
   "metadata": {},
   "outputs": [
    {
     "name": "stdout",
     "output_type": "stream",
     "text": [
      "12.346\n"
     ]
    }
   ],
   "source": [
    "#agrego la coma y coloco el numero que va a reflejar la cantidad de decimales.\n",
    "\n",
    "numero=round(12.345678,3) \n",
    "\n",
    "print (numero)\n"
   ]
  },
  {
   "cell_type": "code",
   "execution_count": 28,
   "metadata": {},
   "outputs": [
    {
     "name": "stdout",
     "output_type": "stream",
     "text": [
      "False\n",
      "False\n",
      "False\n",
      "False\n"
     ]
    }
   ],
   "source": [
    "#LA FUNCION BOOL nos devuelve false cuando:\n",
    "#- tengo 0\n",
    "#- None\n",
    "#- vacio\n",
    "#- false\n",
    "#actua frente a un elemento no en una cadena.\n",
    "\n",
    "resultado= bool(0)\n",
    "resultado1= bool([])\n",
    "resultado2= bool(None)\n",
    "resultado3= bool(False)\n",
    "\n",
    "print(resultado)\n",
    "print(resultado1)\n",
    "print(resultado2)\n",
    "print(resultado3)"
   ]
  },
  {
   "cell_type": "code",
   "execution_count": 29,
   "metadata": {},
   "outputs": [
    {
     "name": "stdout",
     "output_type": "stream",
     "text": [
      "False\n",
      "False\n",
      "False\n",
      "True\n"
     ]
    }
   ],
   "source": [
    "#LA FUNCION ALL nos devuelve true cuando es verdadero\n",
    "#actua en una cadena y si una condicion no se cumple da como resultado false.\n",
    "\n",
    "resultado= all([0])\n",
    "resultado1= all([[]])\n",
    "resultado2= all([None])\n",
    "resultado3= all([12, \"asdf\"])\n",
    "\n",
    "print(resultado)\n",
    "print(resultado1)\n",
    "print(resultado2)\n",
    "print(resultado3)"
   ]
  },
  {
   "cell_type": "code",
   "execution_count": 30,
   "metadata": {},
   "outputs": [
    {
     "name": "stdout",
     "output_type": "stream",
     "text": [
      "102\n"
     ]
    }
   ],
   "source": [
    "#LA FUNCION SUM, SUMA TODOS LOS VALORES DE UNA LISTA.\n",
    "\n",
    "suma_total= sum(numeros)\n",
    "print(suma_total)"
   ]
  },
  {
   "cell_type": "code",
   "execution_count": 38,
   "metadata": {},
   "outputs": [
    {
     "name": "stdout",
     "output_type": "stream",
     "text": [
      "la nueva contraseña es: ach4\n"
     ]
    }
   ],
   "source": [
    "#creando una contraseña que nos retorne valores\n",
    "\n",
    "def creando_contraseña_randon(num):\n",
    "    caracter=\"abcdefghij\"\n",
    "    num_entero=str(num)\n",
    "    num=int(num_entero[0])\n",
    "    \n",
    "    c1=num-2\n",
    "    c2=num\n",
    "    c3=num-5\n",
    "    contraseña=f\"{caracter[c1]}{caracter[c2]}{caracter[c3]}{num*2}\"\n",
    "    return contraseña      #la funcion return me retorna el valor de la contraseña...\n",
    "                            # ....a creando_contraseña_randon es decir me lo guarda ahi...\n",
    "                            # al retornar valores puedo trabajar con ese valor fuera de la funcion  \n",
    "\n",
    "pasword= creando_contraseña_randon(24) #aca podria hacer print creando_contraseña_randon\n",
    "frase= f'la nueva contraseña es: {pasword}'\n",
    "print (frase)"
   ]
  },
  {
   "cell_type": "code",
   "execution_count": 39,
   "metadata": {},
   "outputs": [
    {
     "name": "stdout",
     "output_type": "stream",
     "text": [
      "la nueva contraseña es: ach4\n",
      "y el primer numero utilizado fue: 2\n"
     ]
    }
   ],
   "source": [
    "#igual que el anterior pero retorno 2 valores\n",
    "\n",
    "def creando_contraseña_randon(num):\n",
    "    caracter=\"abcdefghij\"\n",
    "    num_entero=str(num)\n",
    "    num=int(num_entero[0])\n",
    "    \n",
    "    c1=num-2\n",
    "    c2=num\n",
    "    c3=num-5\n",
    "    contraseña=f\"{caracter[c1]}{caracter[c2]}{caracter[c3]}{num*2}\"\n",
    "    return contraseña,num  \n",
    "\n",
    "pasword,primer_numero= creando_contraseña_randon(24)     #desempaquetado\n",
    "frase1= f'la nueva contraseña es: {pasword}'\n",
    "frase2= f'y el primer numero utilizado fue: {primer_numero}'\n",
    "print (frase1)\n",
    "print (frase2)"
   ]
  }
 ],
 "metadata": {
  "kernelspec": {
   "display_name": "Python 3",
   "language": "python",
   "name": "python3"
  },
  "language_info": {
   "codemirror_mode": {
    "name": "ipython",
    "version": 3
   },
   "file_extension": ".py",
   "mimetype": "text/x-python",
   "name": "python",
   "nbconvert_exporter": "python",
   "pygments_lexer": "ipython3",
   "version": "3.9.5"
  }
 },
 "nbformat": 4,
 "nbformat_minor": 2
}
