{
 "cells": [
  {
   "cell_type": "markdown",
   "metadata": {},
   "source": [
    "                                   DESEMPAQUETADO"
   ]
  },
  {
   "cell_type": "markdown",
   "metadata": {},
   "source": [
    "LA lISTA TIENE QUE TENER LA MISMA CANTIDAD DE ELEMENTOS QUE LA VARIABLE.\n",
    "SE PUEDE USAR EN LISTAS Y TUPLAS, EN CONJ NO DESEMPAQUETA NUMEROS."
   ]
  },
  {
   "cell_type": "code",
   "execution_count": 34,
   "metadata": {},
   "outputs": [
    {
     "name": "stdout",
     "output_type": "stream",
     "text": [
      "51\n",
      "adrian\n",
      "gonzalez\n",
      "masculino\n",
      "<class 'list'>\n",
      "----------------------\n",
      "marrones\n",
      "castaño\n",
      "178\n",
      "<class 'tuple'>\n"
     ]
    }
   ],
   "source": [
    "datos_lista=[\"adrian\",\"gonzalez\",51,\"masculino\"]\n",
    "datos_tupla=(\"marrones\",\"castaño\",178)\n",
    "\n",
    "\n",
    "nombre,apellido,edad,genero=datos_lista\n",
    "ojos,cabellos,altura=datos_tupla\n",
    "\n",
    "\n",
    "#desempaquetado listas\n",
    "print (edad)\n",
    "print (nombre)\n",
    "print (apellido)\n",
    "print (genero)\n",
    "print (type(datos_lista))\n",
    "\n",
    "print (\"----------------------\")\n",
    "\n",
    "#desempaquetado tuplas\n",
    "print (ojos)\n",
    "print (cabellos)\n",
    "print (altura)\n",
    "print (type(datos_tupla))\n",
    "\n",
    "\n",
    "\n",
    "\n",
    "\n"
   ]
  }
 ],
 "metadata": {
  "kernelspec": {
   "display_name": "Python 3",
   "language": "python",
   "name": "python3"
  },
  "language_info": {
   "codemirror_mode": {
    "name": "ipython",
    "version": 3
   },
   "file_extension": ".py",
   "mimetype": "text/x-python",
   "name": "python",
   "nbconvert_exporter": "python",
   "pygments_lexer": "ipython3",
   "version": "3.9.5"
  }
 },
 "nbformat": 4,
 "nbformat_minor": 2
}
