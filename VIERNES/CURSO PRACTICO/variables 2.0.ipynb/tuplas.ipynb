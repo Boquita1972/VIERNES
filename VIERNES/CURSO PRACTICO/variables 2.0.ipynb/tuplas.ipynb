{
 "cells": [
  {
   "cell_type": "markdown",
   "metadata": {},
   "source": [
    "                                        CREANDO TUPLAS"
   ]
  },
  {
   "cell_type": "markdown",
   "metadata": {},
   "source": [
    "SE RECOMIENDA UTILIZAR TUPLAS CUANDO VAMOS A TRABAJAR CON DATOS FIJOS, QUE NO VAN A SER MODIFICADOS.\n",
    "LAS TUPLAS MANEJAN MEJOR LA MEMORIA, OCUPAN UN SOLO LUGAR EN MEMORIA."
   ]
  },
  {
   "cell_type": "markdown",
   "metadata": {},
   "source": [
    "LAS LISTAS OCUPAN 2 LUGARES EN MEMORIA SE RECOMIENDA SU UTILIZACION CON DATOS FLEXIBLES QUE VAYAN A IR MODIFICANDOSE."
   ]
  },
  {
   "cell_type": "code",
   "execution_count": 2,
   "metadata": {},
   "outputs": [
    {
     "name": "stdout",
     "output_type": "stream",
     "text": [
      "<class 'tuple'>\n",
      "<class 'tuple'>\n",
      "<class 'tuple'>\n"
     ]
    }
   ],
   "source": [
    "#creando tuplas con tuple ()\n",
    "tupla= tuple ([\"dato1\",\"dato2\"])\n",
    "\n",
    "#creando tuplas sin parentesis de mas de un dato\n",
    "tupla1= \"dato1\",\"dato2\"\n",
    "\n",
    "#creando tuplas sin parentesis de un solo dato\n",
    "tupla2= \"dato1\",\n",
    "\n",
    "\n",
    "print (type(tupla))\n",
    "print (type(tupla1))\n",
    "print (type(tupla2))"
   ]
  }
 ],
 "metadata": {
  "kernelspec": {
   "display_name": "Python 3",
   "language": "python",
   "name": "python3"
  },
  "language_info": {
   "codemirror_mode": {
    "name": "ipython",
    "version": 3
   },
   "file_extension": ".py",
   "mimetype": "text/x-python",
   "name": "python",
   "nbconvert_exporter": "python",
   "pygments_lexer": "ipython3",
   "version": "3.9.5"
  }
 },
 "nbformat": 4,
 "nbformat_minor": 2
}
