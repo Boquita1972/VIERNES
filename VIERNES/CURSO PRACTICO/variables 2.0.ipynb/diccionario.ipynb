{
 "cells": [
  {
   "cell_type": "code",
   "execution_count": 1,
   "metadata": {},
   "outputs": [
    {
     "name": "stdout",
     "output_type": "stream",
     "text": [
      "{'nombre': 'adri', 'apellido': 'gonzalez'}\n"
     ]
    }
   ],
   "source": [
    "#creando diccionario con la funcion DICT \n",
    "#crando diccionarios con la funcion podemos crear diccionarios vacios,\n",
    "#lo mismo ocurre con las tuplas y las listas.\n",
    "\n",
    "diccionario= dict(nombre='adri', apellido='gonzalez')\n",
    "\n",
    "print (diccionario)"
   ]
  },
  {
   "cell_type": "code",
   "execution_count": 7,
   "metadata": {},
   "outputs": [
    {
     "name": "stdout",
     "output_type": "stream",
     "text": [
      "{'nombre': 'adrian', 'edad': 51}\n"
     ]
    }
   ],
   "source": [
    "#otra forma de crar diccionarios\n",
    "\n",
    "diccionario1= {\n",
    "    'nombre':'adrian',\n",
    "    'edad':51\n",
    "}\n",
    "\n",
    "print (diccionario1)"
   ]
  },
  {
   "cell_type": "code",
   "execution_count": 8,
   "metadata": {},
   "outputs": [
    {
     "name": "stdout",
     "output_type": "stream",
     "text": [
      "{('genio', 'capo'): 'adri'}\n"
     ]
    }
   ],
   "source": [
    "#las tuplas pueden ser claves, es decir las podemos meter en el diccionario\n",
    "\n",
    "diccionario= {(\"genio\",\"capo\"):\"adri\"}\n",
    "\n",
    "print (diccionario)"
   ]
  },
  {
   "cell_type": "code",
   "execution_count": 9,
   "metadata": {},
   "outputs": [
    {
     "ename": "TypeError",
     "evalue": "unhashable type: 'list'",
     "output_type": "error",
     "traceback": [
      "\u001b[1;31m---------------------------------------------------------------------------\u001b[0m",
      "\u001b[1;31mTypeError\u001b[0m                                 Traceback (most recent call last)",
      "\u001b[1;32mc:\\Users\\gonzaleza\\Desktop\\LUNES\\LUNES\\CURSO PRACTICO\\variables 2.0.ipynb\\diccionario.ipynb Celda 4\u001b[0m line \u001b[0;36m3\n\u001b[0;32m      <a href='vscode-notebook-cell:/c%3A/Users/gonzaleza/Desktop/LUNES/LUNES/CURSO%20PRACTICO/variables%202.0.ipynb/diccionario.ipynb#W3sZmlsZQ%3D%3D?line=0'>1</a>\u001b[0m \u001b[39m#las listas no pueden ser claves, es decir no las podemos meter en el diccionario\u001b[39;00m\n\u001b[1;32m----> <a href='vscode-notebook-cell:/c%3A/Users/gonzaleza/Desktop/LUNES/LUNES/CURSO%20PRACTICO/variables%202.0.ipynb/diccionario.ipynb#W3sZmlsZQ%3D%3D?line=2'>3</a>\u001b[0m diccionario\u001b[39m=\u001b[39m {[\u001b[39m\"\u001b[39m\u001b[39mgenio\u001b[39m\u001b[39m\"\u001b[39m,\u001b[39m\"\u001b[39m\u001b[39mcapo\u001b[39m\u001b[39m\"\u001b[39m]:\u001b[39m\"\u001b[39m\u001b[39madri\u001b[39m\u001b[39m\"\u001b[39m}\n\u001b[0;32m      <a href='vscode-notebook-cell:/c%3A/Users/gonzaleza/Desktop/LUNES/LUNES/CURSO%20PRACTICO/variables%202.0.ipynb/diccionario.ipynb#W3sZmlsZQ%3D%3D?line=4'>5</a>\u001b[0m \u001b[39mprint\u001b[39m (diccionario)\n",
      "\u001b[1;31mTypeError\u001b[0m: unhashable type: 'list'"
     ]
    }
   ],
   "source": [
    "#las listas no pueden ser claves, es decir no las podemos meter en el diccionario\n",
    "\n",
    "diccionario= {[\"genio\",\"capo\"]:\"adri\"}\n",
    "\n",
    "print (diccionario)"
   ]
  },
  {
   "cell_type": "code",
   "execution_count": 13,
   "metadata": {},
   "outputs": [
    {
     "name": "stdout",
     "output_type": "stream",
     "text": [
      "{frozenset({'genio', 'capo'}): 'adri'}\n"
     ]
    }
   ],
   "source": [
    "#con la funcion frozenset podemos meter un conjunto en el diccionario.\n",
    "\n",
    "diccionario= {frozenset([\"genio\",\"capo\"]):\"adri\"}\n",
    "\n",
    "print (diccionario)"
   ]
  },
  {
   "cell_type": "code",
   "execution_count": 21,
   "metadata": {},
   "outputs": [
    {
     "name": "stdout",
     "output_type": "stream",
     "text": [
      "{'nombre': None, 'apellido': None, 'edad': None}\n"
     ]
    }
   ],
   "source": [
    "#con la funcion DICT.FROMKEYS creo solo la clave y el valor por defecto es NONE.\n",
    "\n",
    "diccionario= dict.fromkeys(['nombre','apellido','edad'])\n",
    "\n",
    "print (diccionario)\n",
    "\n",
    "\n"
   ]
  },
  {
   "cell_type": "code",
   "execution_count": 25,
   "metadata": {},
   "outputs": [
    {
     "name": "stdout",
     "output_type": "stream",
     "text": [
      "{'nombre': 'no se', 'apellido': 'no se', 'edad': 'no se'}\n"
     ]
    }
   ],
   "source": [
    "#en este caso creo las claves y el valor por defecto es NO SE.\n",
    "\n",
    "diccionario= dict.fromkeys(['nombre','apellido','edad'], 'no se')\n",
    "\n",
    "print (diccionario)"
   ]
  }
 ],
 "metadata": {
  "kernelspec": {
   "display_name": "Python 3",
   "language": "python",
   "name": "python3"
  },
  "language_info": {
   "codemirror_mode": {
    "name": "ipython",
    "version": 3
   },
   "file_extension": ".py",
   "mimetype": "text/x-python",
   "name": "python",
   "nbconvert_exporter": "python",
   "pygments_lexer": "ipython3",
   "version": "3.9.5"
  }
 },
 "nbformat": 4,
 "nbformat_minor": 2
}
