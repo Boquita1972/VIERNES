{
 "cells": [
  {
   "cell_type": "markdown",
   "metadata": {},
   "source": [
    "LOS ELEMENTOS DENTRO DEL CONJUNTO NO SON MODIFICABLES"
   ]
  },
  {
   "cell_type": "code",
   "execution_count": 24,
   "metadata": {},
   "outputs": [
    {
     "name": "stdout",
     "output_type": "stream",
     "text": [
      "<class 'set'>\n",
      "{'dato2', 'dato1'}\n"
     ]
    }
   ],
   "source": [
    "#creando conjunto con set\n",
    "\n",
    "conjunto= set([\"dato1\",\"dato2\"])\n",
    "\n",
    "print(type(conjunto))\n",
    "\n",
    "print (conjunto)"
   ]
  },
  {
   "cell_type": "code",
   "execution_count": 28,
   "metadata": {},
   "outputs": [
    {
     "name": "stdout",
     "output_type": "stream",
     "text": [
      "{'dato1', ('dato2', 'dato3')}\n"
     ]
    }
   ],
   "source": [
    "#puedo meter una tupla dentro del conjunto, no una lista, tampoco un diccionario\n",
    "\n",
    "conjunto1= set([\"dato1\",(\"dato2\",\"dato3\")])\n",
    "\n",
    "print (conjunto1)\n"
   ]
  },
  {
   "cell_type": "code",
   "execution_count": 30,
   "metadata": {},
   "outputs": [
    {
     "name": "stdout",
     "output_type": "stream",
     "text": [
      "{'dato3', frozenset({'dato2', 'dato1'})}\n"
     ]
    }
   ],
   "source": [
    "#metiendo un conjunto dentro de otro conjunto utilizando la funcion frozenset\n",
    "\n",
    "conjunto1= frozenset([\"dato1\",\"dato2\"])\n",
    "conjunto2= {conjunto1,\"dato3\"}\n",
    "\n",
    "print (conjunto2)"
   ]
  },
  {
   "cell_type": "code",
   "execution_count": 21,
   "metadata": {},
   "outputs": [
    {
     "name": "stdout",
     "output_type": "stream",
     "text": [
      "True\n"
     ]
    }
   ],
   "source": [
    "#teoria de conjuntos\n",
    "\n",
    "conjunto1={1,3,5,7}\n",
    "conjunto2={1,3,7}\n",
    "\n",
    "#verificando subconjunto con la funcion issubset\n",
    "resultado= conjunto2.issubset(conjunto1) #la funcion issubset pregunta si conj2 es un subconj de conj1.\n",
    "                                         #nos responde true porque efectivamente es un subconj\n",
    "print (resultado)"
   ]
  },
  {
   "cell_type": "code",
   "execution_count": 14,
   "metadata": {},
   "outputs": [
    {
     "name": "stdout",
     "output_type": "stream",
     "text": [
      "True\n"
     ]
    }
   ],
   "source": [
    "#otra forma de verificar subconjunto\n",
    "resultado1=conjunto2<=conjunto1\n",
    "\n",
    "print (resultado1)"
   ]
  },
  {
   "cell_type": "code",
   "execution_count": 16,
   "metadata": {},
   "outputs": [
    {
     "name": "stdout",
     "output_type": "stream",
     "text": [
      "False\n"
     ]
    }
   ],
   "source": [
    "#verificando super conjunto con la funcion issuperset\n",
    "\n",
    "resultado3= conjunto2.issuperset(conjunto1)\n",
    "\n",
    "print (resultado3)"
   ]
  },
  {
   "cell_type": "code",
   "execution_count": 22,
   "metadata": {},
   "outputs": [
    {
     "name": "stdout",
     "output_type": "stream",
     "text": [
      "False\n"
     ]
    }
   ],
   "source": [
    "#el metodo isdisjoint se utiliza para determinar si dos conjuntos no tienen ningún elemento en común.\n",
    "\n",
    "resultado4= conjunto2.isdisjoint(conjunto1)\n",
    "\n",
    "print (resultado4)"
   ]
  }
 ],
 "metadata": {
  "kernelspec": {
   "display_name": "Python 3",
   "language": "python",
   "name": "python3"
  },
  "language_info": {
   "codemirror_mode": {
    "name": "ipython",
    "version": 3
   },
   "file_extension": ".py",
   "mimetype": "text/x-python",
   "name": "python",
   "nbconvert_exporter": "python",
   "pygments_lexer": "ipython3",
   "version": "3.9.5"
  }
 },
 "nbformat": 4,
 "nbformat_minor": 2
}
