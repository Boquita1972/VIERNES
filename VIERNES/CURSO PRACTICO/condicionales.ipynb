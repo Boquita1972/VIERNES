{
 "cells": [
  {
   "cell_type": "markdown",
   "metadata": {},
   "source": [
    "IF - ELIF - ELSE"
   ]
  },
  {
   "cell_type": "code",
   "execution_count": 8,
   "metadata": {},
   "outputs": [
    {
     "name": "stdout",
     "output_type": "stream",
     "text": [
      "sos pobre\n"
     ]
    }
   ],
   "source": [
    "ingreso_mensual= 150\n",
    "gasto_mensual=9000\n",
    "\n",
    "\n",
    "if ingreso_mensual >= 10000:\n",
    "    if ingreso_mensual - gasto_mensual < 0:     #if anidado\n",
    "        print (\"estas en deficit\")\n",
    "    elif ingreso_mensual - gasto_mensual > 3000:\n",
    "        print (\"estas bien\")   \n",
    "    else:\n",
    "        print (\"estas gastando mucho\")   \n",
    "\n",
    "elif ingreso_mensual >= 1000:\n",
    "    print (\"estas bien en latinoamerica\")\n",
    "\n",
    "elif ingreso_mensual >= 500:\n",
    "    print (\"estas bien en argentina\")\n",
    "\n",
    "elif ingreso_mensual >= 200:\n",
    "    print (\"estas bien en venezuela\")\n",
    " \n",
    "else: \n",
    "    print (\"sos pobre\")\n",
    " "
   ]
  }
 ],
 "metadata": {
  "kernelspec": {
   "display_name": "Python 3",
   "language": "python",
   "name": "python3"
  },
  "language_info": {
   "codemirror_mode": {
    "name": "ipython",
    "version": 3
   },
   "file_extension": ".py",
   "mimetype": "text/x-python",
   "name": "python",
   "nbconvert_exporter": "python",
   "pygments_lexer": "ipython3",
   "version": "3.9.5"
  }
 },
 "nbformat": 4,
 "nbformat_minor": 2
}
