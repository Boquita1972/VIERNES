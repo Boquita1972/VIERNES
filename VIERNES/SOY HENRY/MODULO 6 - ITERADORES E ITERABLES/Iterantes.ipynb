{
 "cells": [
  {
   "cell_type": "markdown",
   "metadata": {},
   "source": [
    "                                                 ITERANTES     "
   ]
  },
  {
   "cell_type": "markdown",
   "metadata": {},
   "source": [
    "ITERAR SIGNIFICA REPETIR UNA ACCION EN UN BUCLE HASTA QUE SE CUMPLA UNA CONDICION."
   ]
  },
  {
   "cell_type": "code",
   "execution_count": 71,
   "metadata": {},
   "outputs": [
    {
     "data": {
      "text/plain": [
       "4"
      ]
     },
     "execution_count": 71,
     "metadata": {},
     "output_type": "execute_result"
    }
   ],
   "source": [
    "# con la funcion LEN veo la longitud de la lista\n",
    "\n",
    "lista = [5,4,9,2]\n",
    "len (lista)"
   ]
  },
  {
   "cell_type": "code",
   "execution_count": 72,
   "metadata": {},
   "outputs": [
    {
     "name": "stdout",
     "output_type": "stream",
     "text": [
      "5\n",
      "4\n",
      "9\n",
      "2\n"
     ]
    }
   ],
   "source": [
    "# recorro la lista e imprimo cada uno  de sus elementos con ciclo while\n",
    "\n",
    "lista = [5,4,9,2]\n",
    "i=0\n",
    "\n",
    "while i<len(lista):\n",
    "    elemento = lista[i]\n",
    "    print (elemento)\n",
    "    i+=1"
   ]
  },
  {
   "cell_type": "code",
   "execution_count": 74,
   "metadata": {},
   "outputs": [
    {
     "name": "stdout",
     "output_type": "stream",
     "text": [
      "5\n",
      "4\n",
      "9\n",
      "2\n"
     ]
    }
   ],
   "source": [
    "# lo mismo con ciclo for, el cual se utiliza para iterar sobre una secuencia de valores como una lista, una tupla,\n",
    "#un diccionario, en cada iteracion el bucle for asigna el siguiente valor de la secuencia.\n",
    "\n",
    "lista = [5,4,9,2]\n",
    "\n",
    "for elemento in lista:\n",
    "    print (elemento)"
   ]
  },
  {
   "cell_type": "code",
   "execution_count": null,
   "metadata": {},
   "outputs": [
    {
     "name": "stdout",
     "output_type": "stream",
     "text": [
      "h\n",
      "e\n",
      "n\n",
      "r\n",
      "y\n"
     ]
    }
   ],
   "source": [
    "#iterar un strigns\n",
    "\n",
    "cadena = \"henry\"\n",
    "\n",
    "for elemento in cadena:\n",
    "    print (elemento)"
   ]
  },
  {
   "cell_type": "markdown",
   "metadata": {},
   "source": [
    "UTILIZAMOS LA FUNCION ENUMERATE DEVUELVE EL ELEMENTO ENUMERADO"
   ]
  },
  {
   "cell_type": "code",
   "execution_count": null,
   "metadata": {},
   "outputs": [
    {
     "name": "stdout",
     "output_type": "stream",
     "text": [
      "(0, 'h')\n",
      "(1, 'e')\n",
      "(2, 'n')\n",
      "(3, 'r')\n",
      "(4, 'y')\n"
     ]
    }
   ],
   "source": [
    "#Utilizamos la funcion ENUMERATE () que agrega un indice a cada elemento de una secuencia.\n",
    "\n",
    "cadena = \"henry\"\n",
    "\n",
    "for elemento in enumerate (cadena):\n",
    "    print (elemento)"
   ]
  },
  {
   "cell_type": "markdown",
   "metadata": {},
   "source": [
    "UTILIZANDO ISINSTANCE SABEMOS SI UNA CADENA ES ITERABLE"
   ]
  },
  {
   "cell_type": "code",
   "execution_count": 89,
   "metadata": {},
   "outputs": [
    {
     "data": {
      "text/plain": [
       "True"
      ]
     },
     "execution_count": 89,
     "metadata": {},
     "output_type": "execute_result"
    }
   ],
   "source": [
    "from collections.abc import Iterable\n",
    "cadena= \"henry\"\n",
    "numero=9\n",
    "\n",
    "isinstance (cadena, Iterable)"
   ]
  },
  {
   "cell_type": "code",
   "execution_count": 90,
   "metadata": {},
   "outputs": [
    {
     "data": {
      "text/plain": [
       "False"
      ]
     },
     "execution_count": 90,
     "metadata": {},
     "output_type": "execute_result"
    }
   ],
   "source": [
    "isinstance (numero, Iterable)"
   ]
  },
  {
   "cell_type": "markdown",
   "metadata": {},
   "source": [
    "UTILIZANDO LIST TRANSFORMAMOS UN ITINERABLE EN UNA LISTA"
   ]
  },
  {
   "cell_type": "code",
   "execution_count": null,
   "metadata": {},
   "outputs": [
    {
     "name": "stdout",
     "output_type": "stream",
     "text": [
      "['h', 'e', 'n', 'r', 'y']\n"
     ]
    }
   ],
   "source": [
    "print (list (\"henry\"))"
   ]
  },
  {
   "cell_type": "markdown",
   "metadata": {},
   "source": [
    "UTILIZANDO SUM NOS DEVUELVE LA SUMA DE LA LISTA"
   ]
  },
  {
   "cell_type": "code",
   "execution_count": null,
   "metadata": {},
   "outputs": [
    {
     "name": "stdout",
     "output_type": "stream",
     "text": [
      "6\n"
     ]
    }
   ],
   "source": [
    "print (sum ([1,2,3]))"
   ]
  },
  {
   "cell_type": "markdown",
   "metadata": {},
   "source": [
    "UTILIZANDO .JOIN AGREGAMOS UN SEPARADOR ELEGIDO POR NOSOTROS."
   ]
  },
  {
   "cell_type": "code",
   "execution_count": null,
   "metadata": {},
   "outputs": [
    {
     "name": "stdout",
     "output_type": "stream",
     "text": [
      "h*e*n*r*y\n"
     ]
    }
   ],
   "source": [
    "print (\"*\".join (\"henry\"))"
   ]
  },
  {
   "cell_type": "markdown",
   "metadata": {},
   "source": [
    "ITERAMOS UN DICCIONARIO"
   ]
  },
  {
   "cell_type": "code",
   "execution_count": null,
   "metadata": {},
   "outputs": [
    {
     "name": "stdout",
     "output_type": "stream",
     "text": [
      "a\n",
      "b\n",
      "c\n"
     ]
    }
   ],
   "source": [
    "diccionario= {'a':1, 'b':2, 'c':3}\n",
    "\n",
    "for elementos in (diccionario):\n",
    "    print (elementos) "
   ]
  },
  {
   "cell_type": "code",
   "execution_count": null,
   "metadata": {},
   "outputs": [],
   "source": []
  }
 ],
 "metadata": {
  "kernelspec": {
   "display_name": "Python 3",
   "language": "python",
   "name": "python3"
  },
  "language_info": {
   "codemirror_mode": {
    "name": "ipython",
    "version": 3
   },
   "file_extension": ".py",
   "mimetype": "text/x-python",
   "name": "python",
   "nbconvert_exporter": "python",
   "pygments_lexer": "ipython3",
   "version": "3.9.5"
  }
 },
 "nbformat": 4,
 "nbformat_minor": 2
}
