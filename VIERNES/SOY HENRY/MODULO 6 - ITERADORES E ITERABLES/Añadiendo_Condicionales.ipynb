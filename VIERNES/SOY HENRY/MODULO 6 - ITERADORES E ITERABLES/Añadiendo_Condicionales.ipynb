{
 "cells": [
  {
   "cell_type": "markdown",
   "metadata": {},
   "source": [
    "LA COMPRESION DE LISTAS ES UN TECNICA PARA CREAR UNA NUEVA LISTA A PARTIR DE UN ITERABLE EXISTENTE\n",
    "\n",
    "LISTA = [EXPRESION(generalmente espresion matematica) FOR ELEMENTO IN ITERANTE(lista) IF CONDICION(expresion del tipo booleana)]"
   ]
  },
  {
   "cell_type": "code",
   "execution_count": 3,
   "metadata": {},
   "outputs": [
    {
     "name": "stdout",
     "output_type": "stream",
     "text": [
      "[4, 8, 12]\n"
     ]
    }
   ],
   "source": [
    "numeros= [1,2,3,4,5,6]\n",
    "\n",
    "pares_por_dos= [elementos * 2 for elementos in numeros if elementos%2 == 0]\n",
    "\n",
    "print (pares_por_dos)"
   ]
  },
  {
   "cell_type": "code",
   "execution_count": null,
   "metadata": {},
   "outputs": [],
   "source": []
  },
  {
   "cell_type": "code",
   "execution_count": 12,
   "metadata": {},
   "outputs": [
    {
     "name": "stdout",
     "output_type": "stream",
     "text": [
      "['r', 'r', 'r', 'r']\n"
     ]
    }
   ],
   "source": [
    "frase=\"el perro de san roque no tiene rabo\"\n",
    "\n",
    "erres =[ r  for r in frase if r == \"r\"]\n",
    "\n",
    "print (erres)"
   ]
  },
  {
   "cell_type": "code",
   "execution_count": 13,
   "metadata": {},
   "outputs": [
    {
     "name": "stdout",
     "output_type": "stream",
     "text": [
      "4\n"
     ]
    }
   ],
   "source": [
    "print (len(erres))"
   ]
  }
 ],
 "metadata": {
  "kernelspec": {
   "display_name": "Python 3",
   "language": "python",
   "name": "python3"
  },
  "language_info": {
   "codemirror_mode": {
    "name": "ipython",
    "version": 3
   },
   "file_extension": ".py",
   "mimetype": "text/x-python",
   "name": "python",
   "nbconvert_exporter": "python",
   "pygments_lexer": "ipython3",
   "version": "3.9.5"
  }
 },
 "nbformat": 4,
 "nbformat_minor": 2
}
