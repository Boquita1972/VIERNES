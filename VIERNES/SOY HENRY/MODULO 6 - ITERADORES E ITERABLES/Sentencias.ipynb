{
 "cells": [
  {
   "cell_type": "markdown",
   "metadata": {},
   "source": [
    "                                                     CREMALLERA DE SENTENCIA"
   ]
  },
  {
   "cell_type": "markdown",
   "metadata": {},
   "source": [
    "LA SENTECIA ZIP TOMO 2 O MAS ITERABLES Y LOS COMBINA EN UNA ESTRUCTURA."
   ]
  },
  {
   "cell_type": "code",
   "execution_count": 1,
   "metadata": {},
   "outputs": [],
   "source": [
    "lista1=[1,2,3]\n",
    "lista2=[\"a\",\"b\",\"c\"]\n",
    "combinacion= zip (lista1,lista2)"
   ]
  },
  {
   "cell_type": "code",
   "execution_count": 4,
   "metadata": {},
   "outputs": [
    {
     "name": "stdout",
     "output_type": "stream",
     "text": [
      "(1, 'a')\n",
      "(2, 'b')\n",
      "(3, 'c')\n"
     ]
    }
   ],
   "source": [
    "for elementos in combinacion:\n",
    "    print (elementos)"
   ]
  }
 ],
 "metadata": {
  "kernelspec": {
   "display_name": "Python 3",
   "language": "python",
   "name": "python3"
  },
  "language_info": {
   "codemirror_mode": {
    "name": "ipython",
    "version": 3
   },
   "file_extension": ".py",
   "mimetype": "text/x-python",
   "name": "python",
   "nbconvert_exporter": "python",
   "pygments_lexer": "ipython3",
   "version": "3.9.5"
  }
 },
 "nbformat": 4,
 "nbformat_minor": 2
}
