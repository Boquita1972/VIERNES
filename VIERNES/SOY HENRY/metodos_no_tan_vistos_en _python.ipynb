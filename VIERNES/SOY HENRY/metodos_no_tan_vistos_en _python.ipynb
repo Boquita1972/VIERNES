{
 "cells": [
  {
   "cell_type": "code",
   "execution_count": 1,
   "metadata": {},
   "outputs": [
    {
     "name": "stdout",
     "output_type": "stream",
     "text": [
      "Hola, mundo!\n"
     ]
    }
   ],
   "source": [
    "cadena= \"hola, mundo!\"\n",
    "cadena_capitalizada = cadena.capitalize() #convierte el primer caracter de la cadena a mayuscula\n",
    "print(cadena_capitalizada)"
   ]
  },
  {
   "cell_type": "code",
   "execution_count": 2,
   "metadata": {},
   "outputs": [
    {
     "name": "stdout",
     "output_type": "stream",
     "text": [
      "HOLA, MUNDO!\n"
     ]
    }
   ],
   "source": [
    "cadena= \"hola, mundo!\"\n",
    "cadena_mayuscula = cadena.upper() #convierte todos los caracteres de la cadena a mayuscula\n",
    "print(cadena_mayuscula)"
   ]
  },
  {
   "cell_type": "code",
   "execution_count": 3,
   "metadata": {},
   "outputs": [
    {
     "name": "stdout",
     "output_type": "stream",
     "text": [
      "hola, mundo!\n"
     ]
    }
   ],
   "source": [
    "cadena= \"HOLA, MUNDO!\"\n",
    "cadena_minuscula = cadena.lower() #convierte todos los caracteres de la cadena a minuscula\n",
    "print(cadena_minuscula)"
   ]
  }
 ],
 "metadata": {
  "kernelspec": {
   "display_name": "Python 3",
   "language": "python",
   "name": "python3"
  },
  "language_info": {
   "codemirror_mode": {
    "name": "ipython",
    "version": 3
   },
   "file_extension": ".py",
   "mimetype": "text/x-python",
   "name": "python",
   "nbconvert_exporter": "python",
   "pygments_lexer": "ipython3",
   "version": "3.9.5"
  }
 },
 "nbformat": 4,
 "nbformat_minor": 2
}
