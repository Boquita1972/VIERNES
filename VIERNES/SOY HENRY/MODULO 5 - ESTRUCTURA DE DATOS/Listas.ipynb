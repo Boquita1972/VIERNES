{
 "cells": [
  {
   "cell_type": "markdown",
   "metadata": {},
   "source": [
    "                                           LISTA\n",
    "- SE PUEDEN AGREGAR Y QUITAR ELEMENTOS, SE ENCUENTRAN ENCERRADOS [] Y SEPARADOS POR COMAS Y \"\""
   ]
  },
  {
   "cell_type": "markdown",
   "metadata": {},
   "source": [
    "- append(): Agrega un elemento al final de la lista.\n",
    "- insert(): Inserta un elemento en una posición específica de la lista.\n",
    "- extend(): Agrega los elementos de otra lista al final de la lista actual.\n",
    "- index(): Devuelve el índice de la primera aparición de un elemento en la lista.\n",
    "- remove(): Elimina un elemento de la lista.\n",
    "- sort(): Ordena los elementos de la lista en orden ascendente (por defecto) o descendente.\n",
    "- pop():   Se utiliza en Python para eliminar y devolver el último elemento de una lista. "
   ]
  },
  {
   "cell_type": "markdown",
   "metadata": {},
   "source": [
    "LISTAS DENTRO DE VARIABLES"
   ]
  },
  {
   "cell_type": "code",
   "execution_count": 92,
   "metadata": {},
   "outputs": [
    {
     "name": "stdout",
     "output_type": "stream",
     "text": [
      "['rojo', 'azul', 'verde']\n",
      "[22, 23, 25]\n",
      "[]\n"
     ]
    }
   ],
   "source": [
    "colores=[\"rojo\",\"azul\",\"verde\"]\n",
    "numeros=[22,23,25]\n",
    "lista_vacia=[]\n",
    "\n",
    "print (colores)\n",
    "print (numeros)\n",
    "print (lista_vacia)"
   ]
  },
  {
   "cell_type": "code",
   "execution_count": 93,
   "metadata": {},
   "outputs": [
    {
     "name": "stdout",
     "output_type": "stream",
     "text": [
      "<class 'list'>\n",
      "<class 'list'>\n",
      "<class 'list'>\n"
     ]
    }
   ],
   "source": [
    "print(type(colores))\n",
    "print(type (numeros))\n",
    "print(type(lista_vacia))"
   ]
  },
  {
   "cell_type": "markdown",
   "metadata": {},
   "source": [
    "PARA ACCEDER A UN ELEMENTO EN PARTICULAR EN LA LISTA SE USAN SUBINDICES."
   ]
  },
  {
   "cell_type": "code",
   "execution_count": 94,
   "metadata": {},
   "outputs": [
    {
     "name": "stdout",
     "output_type": "stream",
     "text": [
      "rojo\n"
     ]
    }
   ],
   "source": [
    "mi_lista=[\"rojo\",\"azul\",\"amarillo\",\"verde\",\"naranja\"]\n",
    "\n",
    "print (mi_lista[0])"
   ]
  },
  {
   "cell_type": "markdown",
   "metadata": {},
   "source": [
    "SE PUEDEN ELEGIR VARIOS ELEMENTOS Y OMITIR"
   ]
  },
  {
   "cell_type": "code",
   "execution_count": 95,
   "metadata": {},
   "outputs": [
    {
     "name": "stdout",
     "output_type": "stream",
     "text": [
      "['amarillo', 'verde']\n"
     ]
    }
   ],
   "source": [
    "print(mi_lista[2:4])"
   ]
  },
  {
   "cell_type": "markdown",
   "metadata": {},
   "source": [
    "UTILIZANDO  \n",
    "- \"APPEND\" PODEMOS AGREGAR UN ELEMENTO AL FINAL DE LA LISTA.\n",
    "- \"EXTEND\" CONCATENA ELEMENTOS DE OTRA LISTA A MI LISTA EXISTENTE."
   ]
  },
  {
   "cell_type": "code",
   "execution_count": 96,
   "metadata": {},
   "outputs": [
    {
     "name": "stdout",
     "output_type": "stream",
     "text": [
      "['rojo', 'azul', 'amarillo', 'verde', 'naranja', 'blanco']\n"
     ]
    }
   ],
   "source": [
    "mi_lista.append (\"blanco\")\n",
    "\n",
    "print (mi_lista)"
   ]
  },
  {
   "cell_type": "code",
   "execution_count": 97,
   "metadata": {},
   "outputs": [
    {
     "name": "stdout",
     "output_type": "stream",
     "text": [
      "['rojo', 'azul', 'amarillo', 'verde', 'naranja', 'blanco', 'marron', 'violeta']\n"
     ]
    }
   ],
   "source": [
    "mi_lista.extend([\"marron\",\"violeta\"])\n",
    "\n",
    "print(mi_lista)"
   ]
  },
  {
   "cell_type": "code",
   "execution_count": 98,
   "metadata": {},
   "outputs": [
    {
     "name": "stdout",
     "output_type": "stream",
     "text": [
      "['rojo', 'azul', 'verde', 22, 23, 25]\n"
     ]
    }
   ],
   "source": [
    "colores.extend (numeros)\n",
    "\n",
    "print ( colores)"
   ]
  },
  {
   "cell_type": "markdown",
   "metadata": {},
   "source": [
    "UTILIZANDO INSERT PODEMOS AGREGAR UN ELEMENTO EN UN LUGAR ESPECIFICO DE LA LISTA."
   ]
  },
  {
   "cell_type": "code",
   "execution_count": 99,
   "metadata": {},
   "outputs": [
    {
     "name": "stdout",
     "output_type": "stream",
     "text": [
      "['rojo', 'azul', 'amarillo', 'verde', 'celeste', 'naranja', 'blanco', 'marron', 'violeta']\n"
     ]
    }
   ],
   "source": [
    "mi_lista.insert (4 ,\"celeste\")\n",
    "\n",
    "print(mi_lista)"
   ]
  },
  {
   "cell_type": "markdown",
   "metadata": {},
   "source": [
    "UTILIZANDO INDEX PODEMOS SABER LA POSICION QUE SE ENCUENTRA UN ELEMENTO."
   ]
  },
  {
   "cell_type": "code",
   "execution_count": 100,
   "metadata": {},
   "outputs": [
    {
     "data": {
      "text/plain": [
       "3"
      ]
     },
     "execution_count": 100,
     "metadata": {},
     "output_type": "execute_result"
    }
   ],
   "source": [
    "mi_lista.index (\"verde\")"
   ]
  },
  {
   "cell_type": "markdown",
   "metadata": {},
   "source": [
    "UTILIZANDO REMOVE PODEMOS REMOVER UN ELEMENTO DE LA LISTA."
   ]
  },
  {
   "cell_type": "code",
   "execution_count": 101,
   "metadata": {},
   "outputs": [
    {
     "name": "stdout",
     "output_type": "stream",
     "text": [
      "['rojo', 'azul', 'amarillo', 'verde', 'celeste', 'blanco', 'marron', 'violeta']\n"
     ]
    }
   ],
   "source": [
    "mi_lista.remove (\"naranja\")\n",
    "\n",
    "print (mi_lista)"
   ]
  },
  {
   "cell_type": "markdown",
   "metadata": {},
   "source": [
    "UTILIZANDO .POP() ME ELIMINA EL ULTIMO ELEMENTO DE LA LISTA\n",
    "- guardando en la variable ultimo podemos observar el elemento eliminado"
   ]
  },
  {
   "cell_type": "code",
   "execution_count": 102,
   "metadata": {},
   "outputs": [
    {
     "name": "stdout",
     "output_type": "stream",
     "text": [
      "['rojo', 'azul', 'amarillo', 'verde', 'celeste', 'blanco', 'marron']\n"
     ]
    }
   ],
   "source": [
    "ultimo=mi_lista.pop()\n",
    "\n",
    "print (mi_lista)"
   ]
  },
  {
   "cell_type": "code",
   "execution_count": 103,
   "metadata": {},
   "outputs": [
    {
     "name": "stdout",
     "output_type": "stream",
     "text": [
      "violeta\n"
     ]
    }
   ],
   "source": [
    "print (ultimo)"
   ]
  },
  {
   "cell_type": "markdown",
   "metadata": {},
   "source": [
    "UTILIZANDO UN INDICE AHORA PODEMOS ELIMINAR UN ELEMENTO DETERMINADO EN LA LISTA.\n"
   ]
  },
  {
   "cell_type": "code",
   "execution_count": 104,
   "metadata": {},
   "outputs": [
    {
     "name": "stdout",
     "output_type": "stream",
     "text": [
      "['rojo', 'azul', 'verde', 'celeste', 'blanco', 'marron']\n"
     ]
    }
   ],
   "source": [
    "segundo=mi_lista.pop (2)\n",
    "\n",
    "print (mi_lista)"
   ]
  },
  {
   "cell_type": "code",
   "execution_count": 105,
   "metadata": {},
   "outputs": [
    {
     "name": "stdout",
     "output_type": "stream",
     "text": [
      "amarillo\n"
     ]
    }
   ],
   "source": [
    "print (segundo)"
   ]
  },
  {
   "cell_type": "markdown",
   "metadata": {},
   "source": [
    "UTILIZAMOS *"
   ]
  },
  {
   "cell_type": "code",
   "execution_count": 106,
   "metadata": {},
   "outputs": [
    {
     "name": "stdout",
     "output_type": "stream",
     "text": [
      "(22, 23, 24, 22, 23, 24, 22, 23, 24)\n"
     ]
    }
   ],
   "source": [
    "lista= 22,23,24\n",
    "\n",
    "print (lista*3)"
   ]
  },
  {
   "cell_type": "markdown",
   "metadata": {},
   "source": [
    "PARA CONSERVAR LOS CAMBIOS LO TENGO QUE GUARDAR EN UNA VARIABLE"
   ]
  },
  {
   "cell_type": "code",
   "execution_count": 107,
   "metadata": {},
   "outputs": [
    {
     "name": "stdout",
     "output_type": "stream",
     "text": [
      "(22, 23, 24)\n",
      "(22, 23, 24, 22, 23, 24, 22, 23, 24)\n"
     ]
    }
   ],
   "source": [
    "lista_por_tres=lista*3\n",
    "\n",
    "print(lista)\n",
    "print(lista_por_tres)"
   ]
  },
  {
   "cell_type": "markdown",
   "metadata": {},
   "source": [
    "UTILIZAMOS .SORT ()\n",
    "- ordena mi lista"
   ]
  },
  {
   "cell_type": "code",
   "execution_count": 108,
   "metadata": {},
   "outputs": [
    {
     "name": "stdout",
     "output_type": "stream",
     "text": [
      "[2, 3, 7, 8, 9]\n"
     ]
    }
   ],
   "source": [
    "lista = [2,9,8,3,7]\n",
    "\n",
    "lista.sort()\n",
    "\n",
    "print (lista)"
   ]
  },
  {
   "cell_type": "code",
   "execution_count": 109,
   "metadata": {},
   "outputs": [
    {
     "name": "stdout",
     "output_type": "stream",
     "text": [
      "['azul', 'blanco', 'rojo', 'verde']\n"
     ]
    }
   ],
   "source": [
    "lista =[\"rojo\",\"verde\",\"blanco\",\"azul\"]\n",
    "\n",
    "lista.sort()\n",
    "\n",
    "print (lista)"
   ]
  },
  {
   "cell_type": "markdown",
   "metadata": {},
   "source": [
    ".SORT (REVERSE=TRUE)\n",
    "- ordena del ultimo al primero"
   ]
  },
  {
   "cell_type": "code",
   "execution_count": 110,
   "metadata": {},
   "outputs": [
    {
     "name": "stdout",
     "output_type": "stream",
     "text": [
      "[17, 12, 9, 7, 4, 2, 1]\n"
     ]
    }
   ],
   "source": [
    "lista=[4,7,9,12,17,2,1]\n",
    "lista.sort(reverse=True)\n",
    "\n",
    "print (lista)"
   ]
  },
  {
   "cell_type": "code",
   "execution_count": 111,
   "metadata": {},
   "outputs": [
    {
     "name": "stdout",
     "output_type": "stream",
     "text": [
      "['verde', 'rojo', 'celeste', 'blanco', 'amarillo']\n"
     ]
    }
   ],
   "source": [
    "lista = [\"rojo\",\"blanco\",\"verde\",\"celeste\",\"amarillo\"]\n",
    "lista.sort (reverse=True)\n",
    "\n",
    "print (lista)"
   ]
  }
 ],
 "metadata": {
  "kernelspec": {
   "display_name": "Python 3",
   "language": "python",
   "name": "python3"
  },
  "language_info": {
   "codemirror_mode": {
    "name": "ipython",
    "version": 3
   },
   "file_extension": ".py",
   "mimetype": "text/x-python",
   "name": "python",
   "nbconvert_exporter": "python",
   "pygments_lexer": "ipython3",
   "version": "3.9.5"
  }
 },
 "nbformat": 4,
 "nbformat_minor": 2
}
