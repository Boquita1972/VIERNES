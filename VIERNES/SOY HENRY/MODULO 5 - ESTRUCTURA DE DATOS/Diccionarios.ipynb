{
 "cells": [
  {
   "cell_type": "markdown",
   "metadata": {},
   "source": [
    "                                            DICCIONARIOS"
   ]
  },
  {
   "cell_type": "code",
   "execution_count": 64,
   "metadata": {},
   "outputs": [],
   "source": [
    "primer_diccionario=dict()"
   ]
  },
  {
   "cell_type": "code",
   "execution_count": 65,
   "metadata": {},
   "outputs": [
    {
     "data": {
      "text/plain": [
       "{}"
      ]
     },
     "execution_count": 65,
     "metadata": {},
     "output_type": "execute_result"
    }
   ],
   "source": [
    "primer_diccionario"
   ]
  },
  {
   "cell_type": "code",
   "execution_count": 66,
   "metadata": {},
   "outputs": [
    {
     "name": "stdout",
     "output_type": "stream",
     "text": [
      "{}\n"
     ]
    }
   ],
   "source": [
    "print (primer_diccionario)"
   ]
  },
  {
   "cell_type": "code",
   "execution_count": 67,
   "metadata": {},
   "outputs": [],
   "source": [
    "primer_diccionario['primero']='uno'\n"
   ]
  },
  {
   "cell_type": "code",
   "execution_count": 68,
   "metadata": {},
   "outputs": [
    {
     "data": {
      "text/plain": [
       "{'primero': 'uno'}"
      ]
     },
     "execution_count": 68,
     "metadata": {},
     "output_type": "execute_result"
    }
   ],
   "source": [
    "primer_diccionario"
   ]
  },
  {
   "cell_type": "code",
   "execution_count": 69,
   "metadata": {},
   "outputs": [],
   "source": [
    "primer_diccionario['segundo']='dos'\n",
    "primer_diccionario['tercero'] ='tres'"
   ]
  },
  {
   "cell_type": "code",
   "execution_count": 70,
   "metadata": {},
   "outputs": [
    {
     "data": {
      "text/plain": [
       "{'primero': 'uno', 'segundo': 'dos', 'tercero': 'tres'}"
      ]
     },
     "execution_count": 70,
     "metadata": {},
     "output_type": "execute_result"
    }
   ],
   "source": [
    "primer_diccionario"
   ]
  },
  {
   "cell_type": "markdown",
   "metadata": {},
   "source": [
    "OTRA FORMA DE ESCRIBIR UN DICCIONARIO"
   ]
  },
  {
   "cell_type": "code",
   "execution_count": 71,
   "metadata": {},
   "outputs": [],
   "source": [
    "segundo_diccionario= {\"cuatro\":\"4\", \"cinco\":\"5\", \"seis\":\"6\"}"
   ]
  },
  {
   "cell_type": "code",
   "execution_count": 72,
   "metadata": {},
   "outputs": [
    {
     "data": {
      "text/plain": [
       "{'cuatro': '4', 'cinco': '5', 'seis': '6'}"
      ]
     },
     "execution_count": 72,
     "metadata": {},
     "output_type": "execute_result"
    }
   ],
   "source": [
    "segundo_diccionario"
   ]
  },
  {
   "cell_type": "markdown",
   "metadata": {},
   "source": [
    "PODEMOS ACCEDER A UN VALOR ESPECIFICO DENTRO DEL DICCIONARIO"
   ]
  },
  {
   "cell_type": "code",
   "execution_count": 73,
   "metadata": {},
   "outputs": [
    {
     "name": "stdout",
     "output_type": "stream",
     "text": [
      "4\n"
     ]
    }
   ],
   "source": [
    "print (segundo_diccionario[\"cuatro\"])"
   ]
  },
  {
   "cell_type": "markdown",
   "metadata": {},
   "source": [
    "LISTA DENTRO DEL DICCIONARIO"
   ]
  },
  {
   "cell_type": "code",
   "execution_count": 74,
   "metadata": {},
   "outputs": [],
   "source": [
    "mi_diccionario={\"colores primarios\":[\"rojo\",\"azul\",\"amarillo\"],\n",
    "                \"colores secundarios\":[\"naranja\",\"violeta\",\"verde\"],\n",
    "                \"clave 3\": 10,\n",
    "                \"clave 4\" : False}"
   ]
  },
  {
   "cell_type": "code",
   "execution_count": 75,
   "metadata": {},
   "outputs": [
    {
     "name": "stdout",
     "output_type": "stream",
     "text": [
      "{'colores primarios': ['rojo', 'azul', 'amarillo'], 'colores secundarios': ['naranja', 'violeta', 'verde'], 'clave 3': 10, 'clave 4': False}\n"
     ]
    }
   ],
   "source": [
    "print (mi_diccionario)"
   ]
  },
  {
   "cell_type": "code",
   "execution_count": 76,
   "metadata": {},
   "outputs": [
    {
     "name": "stdout",
     "output_type": "stream",
     "text": [
      "10\n"
     ]
    }
   ],
   "source": [
    "print (mi_diccionario[\"clave 3\"])"
   ]
  },
  {
   "cell_type": "markdown",
   "metadata": {},
   "source": [
    "CON LA FUNCION \"DEL\" PODEMOS ELIMINAR UN ELEMENTO "
   ]
  },
  {
   "cell_type": "code",
   "execution_count": 77,
   "metadata": {},
   "outputs": [],
   "source": [
    "del mi_diccionario[\"clave 3\"]"
   ]
  },
  {
   "cell_type": "code",
   "execution_count": 78,
   "metadata": {},
   "outputs": [
    {
     "name": "stdout",
     "output_type": "stream",
     "text": [
      "{'colores primarios': ['rojo', 'azul', 'amarillo'], 'colores secundarios': ['naranja', 'violeta', 'verde'], 'clave 4': False}\n"
     ]
    }
   ],
   "source": [
    "print (mi_diccionario)"
   ]
  },
  {
   "cell_type": "markdown",
   "metadata": {},
   "source": [
    "TUPLAS COMO CLAVES"
   ]
  },
  {
   "cell_type": "code",
   "execution_count": 79,
   "metadata": {},
   "outputs": [],
   "source": [
    "mi_tupla=(\"argentina\",\"italia\",\"inglaterra\")"
   ]
  },
  {
   "cell_type": "code",
   "execution_count": 80,
   "metadata": {},
   "outputs": [],
   "source": [
    "mi_diccionario ={mi_tupla[0]:\"buenos aires\",\n",
    "                 mi_tupla[1]: \"roma\",\n",
    "                 mi_tupla[2]: \"londres\"}"
   ]
  },
  {
   "cell_type": "code",
   "execution_count": 81,
   "metadata": {},
   "outputs": [
    {
     "name": "stdout",
     "output_type": "stream",
     "text": [
      "{'argentina': 'buenos aires', 'italia': 'roma', 'inglaterra': 'londres'}\n"
     ]
    }
   ],
   "source": [
    "print (mi_diccionario)"
   ]
  },
  {
   "cell_type": "markdown",
   "metadata": {},
   "source": [
    "TUPLA DENTRO DE DICCIONARIO"
   ]
  },
  {
   "cell_type": "code",
   "execution_count": 82,
   "metadata": {},
   "outputs": [],
   "source": [
    "mi_diccionario={\"clave 1\" :\"valor 1\", \"clave 2\":(1,2,3,4)}"
   ]
  },
  {
   "cell_type": "code",
   "execution_count": 83,
   "metadata": {},
   "outputs": [
    {
     "name": "stdout",
     "output_type": "stream",
     "text": [
      "{'clave 1': 'valor 1', 'clave 2': (1, 2, 3, 4)}\n"
     ]
    }
   ],
   "source": [
    "print (mi_diccionario)"
   ]
  },
  {
   "cell_type": "markdown",
   "metadata": {},
   "source": [
    "LISTA DENTRO DE DICCIONARIO"
   ]
  },
  {
   "cell_type": "code",
   "execution_count": 84,
   "metadata": {},
   "outputs": [],
   "source": [
    "mi_diccionario={\"clave 1\" : \"valor 1\",\"clave 2\": [1,2,3,4]}"
   ]
  },
  {
   "cell_type": "code",
   "execution_count": 85,
   "metadata": {},
   "outputs": [
    {
     "name": "stdout",
     "output_type": "stream",
     "text": [
      "{'clave 1': 'valor 1', 'clave 2': [1, 2, 3, 4]}\n"
     ]
    }
   ],
   "source": [
    "print (mi_diccionario)"
   ]
  },
  {
   "cell_type": "markdown",
   "metadata": {},
   "source": [
    "DICCIONARIO DENTRO DE DICCIONARIO"
   ]
  },
  {
   "cell_type": "code",
   "execution_count": 89,
   "metadata": {},
   "outputs": [],
   "source": [
    "mi_diccionario={\"clave 1\" : \"valor 1\", \"clave 2\":{\"numero\": [1,2,3,4,5]}}"
   ]
  },
  {
   "cell_type": "code",
   "execution_count": 90,
   "metadata": {},
   "outputs": [
    {
     "name": "stdout",
     "output_type": "stream",
     "text": [
      "{'clave 1': 'valor 1', 'clave 2': {'numero': [1, 2, 3, 4, 5]}}\n"
     ]
    }
   ],
   "source": [
    "print (mi_diccionario)"
   ]
  },
  {
   "cell_type": "markdown",
   "metadata": {},
   "source": [
    "CON LA FUNCION \".KEYS()\" IMPRIMO LAS CLAVES"
   ]
  },
  {
   "cell_type": "code",
   "execution_count": 92,
   "metadata": {},
   "outputs": [
    {
     "name": "stdout",
     "output_type": "stream",
     "text": [
      "dict_keys(['clave 1', 'clave 2'])\n"
     ]
    }
   ],
   "source": [
    "print (mi_diccionario.keys())"
   ]
  },
  {
   "cell_type": "markdown",
   "metadata": {},
   "source": [
    "CON LA FUNCION .VALUES() IMPRIMO LOS VALORES DE LAS CLAVES"
   ]
  },
  {
   "cell_type": "code",
   "execution_count": 93,
   "metadata": {},
   "outputs": [
    {
     "name": "stdout",
     "output_type": "stream",
     "text": [
      "dict_values(['valor 1', {'numero': [1, 2, 3, 4, 5]}])\n"
     ]
    }
   ],
   "source": [
    "print (mi_diccionario.values())"
   ]
  },
  {
   "cell_type": "markdown",
   "metadata": {},
   "source": [
    "CON LA FUNCION \"LEN\" PODEMOS SABER LA LONGITUD DEL DICCIONARIO,ASI COMO TAMBIEN DE LAS LISTAS Y TUPLAS.\n",
    "- la longitud del diccionario son 2 clave -  valor"
   ]
  },
  {
   "cell_type": "code",
   "execution_count": 94,
   "metadata": {},
   "outputs": [
    {
     "data": {
      "text/plain": [
       "2"
      ]
     },
     "execution_count": 94,
     "metadata": {},
     "output_type": "execute_result"
    }
   ],
   "source": [
    "len (mi_diccionario)"
   ]
  },
  {
   "cell_type": "code",
   "execution_count": null,
   "metadata": {},
   "outputs": [],
   "source": []
  }
 ],
 "metadata": {
  "kernelspec": {
   "display_name": "Python 3",
   "language": "python",
   "name": "python3"
  },
  "language_info": {
   "codemirror_mode": {
    "name": "ipython",
    "version": 3
   },
   "file_extension": ".py",
   "mimetype": "text/x-python",
   "name": "python",
   "nbconvert_exporter": "python",
   "pygments_lexer": "ipython3",
   "version": "3.9.5"
  }
 },
 "nbformat": 4,
 "nbformat_minor": 2
}
