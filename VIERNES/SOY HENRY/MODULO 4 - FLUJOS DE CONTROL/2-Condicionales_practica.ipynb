{
 "cells": [
  {
   "cell_type": "markdown",
   "metadata": {},
   "source": [
    "                                              FLUJOS DE CONTROL"
   ]
  },
  {
   "cell_type": "markdown",
   "metadata": {},
   "source": [
    "LAS ESTRCTURAS DE CONTROL DE FLUJO PUEDEN SER: \n",
    "- CONDICIONALES: EJEMPLO VOY A COMPRAR PAN Y SI NO TIENEN ¿QUE HAGO?, SE EVALUA SI SE CUMPLE O NO Y SE EJECUTA UNA DETERMINADA ACCION."
   ]
  },
  {
   "cell_type": "markdown",
   "metadata": {},
   "source": [
    "- IF: SI (TAREA EN CASO DE VERDADERO)\n",
    "- ELIF: SI, NO (TAREA EN CASO DE FALSO)\n",
    "- ELSE: DE LO CONTRARIO (TAREA EN CASO QUE CONDICION 1 Y 2 SEAN FALSAS)\n",
    "\n"
   ]
  },
  {
   "cell_type": "code",
   "execution_count": 1,
   "metadata": {},
   "outputs": [],
   "source": [
    "a=5\n",
    "b=7"
   ]
  },
  {
   "cell_type": "code",
   "execution_count": 5,
   "metadata": {},
   "outputs": [
    {
     "name": "stdout",
     "output_type": "stream",
     "text": [
      "a es menor que b\n"
     ]
    }
   ],
   "source": [
    "if a<b:\n",
    "    print (\"a es menor que b\")\n",
    "\n",
    "elif a>b:\n",
    "    print (\"a es mayor que b\")\n",
    "  \n",
    "else:\n",
    "    print (\"a y b son iguales\")"
   ]
  },
  {
   "cell_type": "markdown",
   "metadata": {},
   "source": [
    "PRACTICAR"
   ]
  },
  {
   "cell_type": "code",
   "execution_count": 15,
   "metadata": {},
   "outputs": [],
   "source": [
    "a= 'flan'\n",
    "b='arina'"
   ]
  },
  {
   "cell_type": "code",
   "execution_count": 16,
   "metadata": {},
   "outputs": [
    {
     "name": "stdout",
     "output_type": "stream",
     "text": [
      "no hay ninguna de las dos\n"
     ]
    }
   ],
   "source": [
    "if a=='pan':\n",
    "    print (\"en el almacen hay pan\")\n",
    "    \n",
    "elif b=='galletas':\n",
    "    print (\"en el almacen hay galletas\")\n",
    "\n",
    "else:\n",
    "    print (\"no hay ninguna de las dos\")    "
   ]
  },
  {
   "cell_type": "markdown",
   "metadata": {},
   "source": [
    "PRACTICA 2"
   ]
  },
  {
   "cell_type": "code",
   "execution_count": 18,
   "metadata": {},
   "outputs": [
    {
     "name": "stdout",
     "output_type": "stream",
     "text": [
      "ingrese su edad\n"
     ]
    }
   ],
   "source": [
    "print (\"ingrese su edad\")\n"
   ]
  },
  {
   "cell_type": "code",
   "execution_count": 23,
   "metadata": {},
   "outputs": [],
   "source": [
    "edad=75"
   ]
  },
  {
   "cell_type": "code",
   "execution_count": 24,
   "metadata": {},
   "outputs": [
    {
     "name": "stdout",
     "output_type": "stream",
     "text": [
      "entonces necesitas una licencia especial\n"
     ]
    }
   ],
   "source": [
    "if edad < 16:\n",
    "     print (\"entonces no puedes conducir\")\n",
    "\n",
    "elif edad < 18:\n",
    "     print (\"entonces puedes obtener un permiso para conducir\")\n",
    "\n",
    "elif edad < 70:\n",
    "     print (\"entonces puedes obtener una licencia standart\")\n",
    "\n",
    "elif edad > 70:\n",
    "     print (\"entonces necesitas una licencia especial\")\n",
    "\n",
    "\n"
   ]
  }
 ],
 "metadata": {
  "kernelspec": {
   "display_name": "Python 3",
   "language": "python",
   "name": "python3"
  },
  "language_info": {
   "codemirror_mode": {
    "name": "ipython",
    "version": 3
   },
   "file_extension": ".py",
   "mimetype": "text/x-python",
   "name": "python",
   "nbconvert_exporter": "python",
   "pygments_lexer": "ipython3",
   "version": "3.9.5"
  }
 },
 "nbformat": 4,
 "nbformat_minor": 2
}
