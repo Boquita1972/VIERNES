{
 "cells": [
  {
   "cell_type": "markdown",
   "metadata": {},
   "source": [
    "1) Crear una variable que contenga un elemento del conjunto de números enteros y luego imprimir por pantalla si es mayor o menor a cero"
   ]
  },
  {
   "cell_type": "code",
   "execution_count": 20,
   "metadata": {},
   "outputs": [
    {
     "name": "stdout",
     "output_type": "stream",
     "text": [
      "el numero es menor que 0\n"
     ]
    }
   ],
   "source": [
    "num=-5\n",
    "\n",
    "if (num>0):\n",
    "    print (\"el numero es mayor que 0\")\n",
    "\n",
    "elif (num<0):\n",
    "    print (\"el numero es menor que 0\")   \n",
    "\n",
    "else:\n",
    "    print (\"el numero es el 0\")"
   ]
  },
  {
   "cell_type": "markdown",
   "metadata": {},
   "source": [
    "                                 -----------------------------------------------------------------"
   ]
  },
  {
   "cell_type": "markdown",
   "metadata": {},
   "source": [
    "RESUELTO POR HENRY"
   ]
  },
  {
   "cell_type": "code",
   "execution_count": 26,
   "metadata": {},
   "outputs": [
    {
     "name": "stdout",
     "output_type": "stream",
     "text": [
      "La variable es mayor a cero\n"
     ]
    }
   ],
   "source": [
    "a = 10\n",
    "if (a < 0):\n",
    "    print('La variable es menor a cero')\n",
    "elif (a > 0): \n",
    "    print('La variable es mayor a cero')\n",
    "else:\n",
    "    print('La variable es igual a cero')"
   ]
  },
  {
   "cell_type": "markdown",
   "metadata": {},
   "source": [
    "--------------------------------------------------------------------------------------------------------------------------------------------"
   ]
  },
  {
   "cell_type": "markdown",
   "metadata": {},
   "source": [
    "2) Crear dos variables y un condicional que informe si son del mismo tipo de dato"
   ]
  },
  {
   "cell_type": "code",
   "execution_count": 9,
   "metadata": {},
   "outputs": [
    {
     "name": "stdout",
     "output_type": "stream",
     "text": [
      "ambas variables son distinto tipo de dato\n"
     ]
    }
   ],
   "source": [
    "a=5\n",
    "b=\"2\"\n",
    "\n",
    "if type (a) ==type (b):\n",
    "    print(\"ambas variables son del mismo tipo de dato\")\n",
    "else:\n",
    "    print(\"ambas variables son distinto tipo de dato\")\n",
    "\n",
    "    \n",
    "        "
   ]
  },
  {
   "cell_type": "markdown",
   "metadata": {},
   "source": [
    "                                               ------------------------------------------------------------"
   ]
  },
  {
   "cell_type": "markdown",
   "metadata": {},
   "source": [
    "RESUELTO POR HENRY"
   ]
  },
  {
   "cell_type": "code",
   "execution_count": 25,
   "metadata": {},
   "outputs": [
    {
     "name": "stdout",
     "output_type": "stream",
     "text": [
      "Las variables son de tipos de dato diferentes\n"
     ]
    }
   ],
   "source": [
    "a = 2\n",
    "b = 'hola'\n",
    "if (type(a) == type(b)):\n",
    "    print('Las variables son del mismo tipo de dato')\n",
    "else:\n",
    "    print('Las variables son de tipos de dato diferentes')"
   ]
  },
  {
   "cell_type": "markdown",
   "metadata": {},
   "source": [
    "---------------------------------------------------------------------------------------------------------------------------------------------"
   ]
  },
  {
   "cell_type": "markdown",
   "metadata": {},
   "source": [
    "3) Para los valores enteros del 1 al 20, imprimir por pantalla si es par o impar"
   ]
  },
  {
   "cell_type": "code",
   "execution_count": 21,
   "metadata": {},
   "outputs": [
    {
     "name": "stdout",
     "output_type": "stream",
     "text": [
      "1 numero impar\n",
      "2 numero par\n",
      "3 numero impar\n",
      "4 numero par\n",
      "5 numero impar\n",
      "6 numero par\n",
      "7 numero impar\n",
      "8 numero par\n",
      "9 numero impar\n",
      "10 numero par\n",
      "11 numero impar\n",
      "12 numero par\n",
      "13 numero impar\n",
      "14 numero par\n",
      "15 numero impar\n",
      "16 numero par\n",
      "17 numero impar\n",
      "18 numero par\n",
      "19 numero impar\n",
      "20 numero par\n"
     ]
    }
   ],
   "source": [
    "for i in range (0,20):\n",
    "    s=i+1\n",
    "    if (s)%2 != 0:\n",
    "        print (s, \"numero impar\")\n",
    "    elif (s)%2==0:\n",
    "        print (s,\"numero par\")\n",
    "        \n"
   ]
  },
  {
   "cell_type": "markdown",
   "metadata": {},
   "source": [
    "                                            ----------------------------------------------"
   ]
  },
  {
   "cell_type": "markdown",
   "metadata": {},
   "source": [
    "RESUELTO POR HENRY"
   ]
  },
  {
   "cell_type": "code",
   "execution_count": 22,
   "metadata": {},
   "outputs": [
    {
     "name": "stdout",
     "output_type": "stream",
     "text": [
      "El número  1  es impar\n",
      "El número  2  es par\n",
      "El número  3  es impar\n",
      "El número  4  es par\n",
      "El número  5  es impar\n",
      "El número  6  es par\n",
      "El número  7  es impar\n",
      "El número  8  es par\n",
      "El número  9  es impar\n",
      "El número  10  es par\n",
      "El número  11  es impar\n",
      "El número  12  es par\n",
      "El número  13  es impar\n",
      "El número  14  es par\n",
      "El número  15  es impar\n",
      "El número  16  es par\n",
      "El número  17  es impar\n",
      "El número  18  es par\n",
      "El número  19  es impar\n",
      "El número  20  es par\n"
     ]
    }
   ],
   "source": [
    "#resuelto con bucle for\n",
    "\n",
    "for i in range(1, 21):\n",
    "    if i % 2 == 0:\n",
    "        print('El número ', str(i), ' es par')\n",
    "    else:\n",
    "        print('El número ', str(i), ' es impar')"
   ]
  },
  {
   "cell_type": "code",
   "execution_count": 25,
   "metadata": {},
   "outputs": [
    {
     "name": "stdout",
     "output_type": "stream",
     "text": [
      "El numero 1 es impar\n",
      "El numero 2 es par\n",
      "El numero 3 es impar\n",
      "El numero 4 es par\n",
      "El numero 5 es impar\n",
      "El numero 6 es par\n",
      "El numero 7 es impar\n",
      "El numero 8 es par\n",
      "El numero 9 es impar\n",
      "El numero 10 es par\n",
      "El numero 11 es impar\n",
      "El numero 12 es par\n",
      "El numero 13 es impar\n",
      "El numero 14 es par\n",
      "El numero 15 es impar\n",
      "El numero 16 es par\n",
      "El numero 17 es impar\n",
      "El numero 18 es par\n",
      "El numero 19 es impar\n",
      "El numero 20 es par\n"
     ]
    }
   ],
   "source": [
    "# resuelto con while\n",
    "\n",
    "i = 1\n",
    "\n",
    "\n",
    "while (i <= 20):\n",
    "    if (i % 2 == 0):\n",
    "        \n",
    "        print(f'El numero {i} es par')\n",
    "    else:\n",
    "        print(f'El numero {i} es impar')\n",
    "    i = i + 1"
   ]
  },
  {
   "cell_type": "markdown",
   "metadata": {},
   "source": [
    "----------------------------------------------------------------------------------------------------------------------------------------"
   ]
  },
  {
   "cell_type": "markdown",
   "metadata": {},
   "source": [
    "4) En un ciclo for mostrar para los valores entre 0 y 5 el resultado de elevarlo a la potencia igual a 3"
   ]
  },
  {
   "cell_type": "code",
   "execution_count": 27,
   "metadata": {},
   "outputs": [
    {
     "name": "stdout",
     "output_type": "stream",
     "text": [
      "Valor: 1 elevado a la tercera potencia: 1\n",
      "Valor: 2 elevado a la tercera potencia: 8\n",
      "Valor: 3 elevado a la tercera potencia: 27\n",
      "Valor: 4 elevado a la tercera potencia: 64\n",
      "Valor: 5 elevado a la tercera potencia: 125\n"
     ]
    }
   ],
   "source": [
    "for i in range (0,5):\n",
    "    suma= i+1\n",
    "    print (\"Valor:\",suma, \"elevado a la tercera potencia:\", suma**3)"
   ]
  },
  {
   "cell_type": "markdown",
   "metadata": {},
   "source": [
    "                                              ---------------------------------------------"
   ]
  },
  {
   "cell_type": "markdown",
   "metadata": {},
   "source": [
    "RESUELTO POR HENRY"
   ]
  },
  {
   "cell_type": "code",
   "execution_count": 23,
   "metadata": {},
   "outputs": [
    {
     "name": "stdout",
     "output_type": "stream",
     "text": [
      "Valor: 0  Elevado a la 3ra potencia: 0\n",
      "Valor: 1  Elevado a la 3ra potencia: 1\n",
      "Valor: 2  Elevado a la 3ra potencia: 8\n",
      "Valor: 3  Elevado a la 3ra potencia: 27\n",
      "Valor: 4  Elevado a la 3ra potencia: 64\n",
      "Valor: 5  Elevado a la 3ra potencia: 125\n"
     ]
    }
   ],
   "source": [
    "for i in range(0, 6):\n",
    "    print('Valor:', str(i), ' Elevado a la 3ra potencia:', str(i**3))"
   ]
  },
  {
   "cell_type": "markdown",
   "metadata": {},
   "source": [
    "5) Crear una variable que contenga un número entero y realizar un ciclo FOR con la misma cantidad de ciclos"
   ]
  },
  {
   "cell_type": "code",
   "execution_count": 37,
   "metadata": {},
   "outputs": [
    {
     "name": "stdout",
     "output_type": "stream",
     "text": [
      "1\n",
      "2\n",
      "3\n",
      "4\n",
      "5\n"
     ]
    }
   ],
   "source": [
    "a = 5\n",
    "\n",
    "for i in range (1,a+1):\n",
    "    print (i)"
   ]
  },
  {
   "cell_type": "markdown",
   "metadata": {},
   "source": [
    "6) Utilizar un ciclo while para realizar el factorial de un número guardado en una variable, sólo si la variable contiene un número entero mayor a 0"
   ]
  },
  {
   "cell_type": "code",
   "execution_count": 75,
   "metadata": {},
   "outputs": [
    {
     "name": "stdout",
     "output_type": "stream",
     "text": [
      "el factorial de: 5 es: 120\n"
     ]
    }
   ],
   "source": [
    "n=5\n",
    "\n",
    "if (type (n) == int):      #si el tipo de dato es la variable si es un entero continuo\n",
    "    if (n)>0:              #si es mayor que 0 continuo\n",
    "        factorial =m= n    #igualo las variables para utilizarlas abajo\n",
    "        while (n>1):       #hace el bucle hasta que n sea mayor que 1\n",
    "         n=n-1             #va restando los ciclos hasta llegar a 2\n",
    "         factorial=factorial*n       #va hciendo el factorial en cada ciclo\n",
    "        print(\"el factorial de:\",m,\"es:\",factorial)  #utilizo la m igualada con la n\n",
    "\n",
    "    else:\n",
    "     print (\"el numero es el 0\")\n",
    "else:\n",
    "    print(\"el numero no es un entero\")"
   ]
  },
  {
   "cell_type": "markdown",
   "metadata": {},
   "source": [
    "7. Crear un ciclo for dentro de un ciclo while"
   ]
  },
  {
   "cell_type": "code",
   "execution_count": null,
   "metadata": {},
   "outputs": [],
   "source": [
    "n=4\n",
    "\n",
    "while (n<5):\n",
    "    n+=1\n",
    "    for i in range(1,n):\n",
    "        print (\"ciclos while nro:\",n)\n",
    "        print (\"ciclos for nro: \"+str(i)) #dos maneras distintas de poner los mismo"
   ]
  },
  {
   "cell_type": "markdown",
   "metadata": {},
   "source": [
    "8.Crear un ciclo while dentro de un ciclo for"
   ]
  },
  {
   "cell_type": "code",
   "execution_count": 24,
   "metadata": {},
   "outputs": [
    {
     "name": "stdout",
     "output_type": "stream",
     "text": [
      "ciclo for nro 1\n",
      "ciclos while nro 4\n",
      "ciclos while nro 3\n",
      "ciclos while nro 2\n",
      "ciclos while nro 1\n",
      "ciclo for nro 2\n",
      "ciclos while nro 4\n",
      "ciclos while nro 3\n",
      "ciclos while nro 2\n",
      "ciclos while nro 1\n",
      "ciclo for nro 3\n",
      "ciclos while nro 4\n",
      "ciclos while nro 3\n",
      "ciclos while nro 2\n",
      "ciclos while nro 1\n"
     ]
    }
   ],
   "source": [
    "n=4\n",
    "for i in range(1,n):\n",
    "    print (\"ciclo for nro\",i)\n",
    "    num_temp=n\n",
    "    \n",
    "    while (num_temp>0):\n",
    "        print (\"ciclos while nro\",num_temp)\n",
    "        num_temp-=1\n",
    "        if num_temp<=0:\n",
    "            break"
   ]
  },
  {
   "cell_type": "code",
   "execution_count": 23,
   "metadata": {},
   "outputs": [
    {
     "name": "stdout",
     "output_type": "stream",
     "text": [
      "Ciclo for nro 1\n",
      "Ciclo while nro 5\n",
      "Ciclo while nro 4\n",
      "Ciclo while nro 3\n",
      "Ciclo while nro 2\n",
      "Ciclo while nro 1\n",
      "Ciclo for nro 2\n",
      "Ciclo while nro 5\n",
      "Ciclo while nro 4\n",
      "Ciclo while nro 3\n",
      "Ciclo while nro 2\n",
      "Ciclo while nro 1\n",
      "Ciclo for nro 3\n",
      "Ciclo while nro 5\n",
      "Ciclo while nro 4\n",
      "Ciclo while nro 3\n",
      "Ciclo while nro 2\n",
      "Ciclo while nro 1\n",
      "Ciclo for nro 4\n",
      "Ciclo while nro 5\n",
      "Ciclo while nro 4\n",
      "Ciclo while nro 3\n",
      "Ciclo while nro 2\n",
      "Ciclo while nro 1\n"
     ]
    }
   ],
   "source": [
    "n = 5\n",
    "for i in range(1, n):\n",
    "    print('Ciclo for nro ' + str(i))  # Imprime el número del ciclo for\n",
    "    \n",
    "    n_temp = n  # Almacena el valor original de n en una variable temporal\n",
    "    \n",
    "    while n_temp > 0:  # Ciclo while que se ejecuta mientras n_temp sea mayor que 0\n",
    "        print('Ciclo while nro ' + str(n_temp))  # Imprime el número del ciclo while\n",
    "        n_temp -= 1\n",
    "        \n",
    "        if n_temp <= 0:\n",
    "            break  # Sale del ciclo while cuando n_temp sea menor o igual a 0"
   ]
  },
  {
   "cell_type": "markdown",
   "metadata": {},
   "source": [
    "9.Imprimir los números primos existentes entre 0 y 30"
   ]
  },
  {
   "cell_type": "code",
   "execution_count": 16,
   "metadata": {},
   "outputs": [
    {
     "name": "stdout",
     "output_type": "stream",
     "text": [
      "1\n",
      "3\n",
      "5\n",
      "7\n",
      "9\n",
      "11\n",
      "13\n",
      "15\n",
      "17\n",
      "19\n",
      "21\n",
      "23\n",
      "25\n",
      "27\n",
      "29\n"
     ]
    }
   ],
   "source": [
    "tope_rango=30\n",
    "n = 0\n",
    "primo = True\n",
    "while (n<tope_rango):\n",
    "   for i in range(0, 30):\n",
    "        if (n % 2 == 0):\n",
    "            primo = False \n",
    "   if (primo):\n",
    "        print(n)\n",
    "   else:\n",
    "        primo=True\n",
    "   n += 1"
   ]
  },
  {
   "cell_type": "markdown",
   "metadata": {},
   "source": [
    "10. ¿Se puede mejorar el proceso del punto 9? Utilizar las sentencias break y/ó continue para tal fin"
   ]
  },
  {
   "cell_type": "code",
   "execution_count": 34,
   "metadata": {},
   "outputs": [
    {
     "name": "stdout",
     "output_type": "stream",
     "text": [
      "0\n",
      "1\n",
      "2\n",
      "3\n",
      "5\n",
      "7\n",
      "9\n",
      "11\n",
      "13\n",
      "15\n",
      "17\n",
      "19\n",
      "21\n",
      "23\n",
      "25\n",
      "27\n",
      "29\n",
      "cantidad de ciclos sin break: 378\n"
     ]
    }
   ],
   "source": [
    "tope_rango=30\n",
    "ciclo_sin_break=0\n",
    "n = 0\n",
    "primo = True\n",
    "while (n<tope_rango):\n",
    "   for i in range(2, n):\n",
    "        ciclo_sin_break +=1   #contador\n",
    "        if (n % 2 == 0):\n",
    "            primo = False \n",
    "   if (primo):\n",
    "        print(n)\n",
    "   else:\n",
    "        primo=True\n",
    "   n += 1\n",
    "print(\"cantidad de ciclos sin break:\",(ciclo_sin_break))   "
   ]
  },
  {
   "cell_type": "code",
   "execution_count": 11,
   "metadata": {},
   "outputs": [
    {
     "name": "stdout",
     "output_type": "stream",
     "text": [
      "0\n",
      "1\n",
      "2\n",
      "3\n",
      "5\n",
      "7\n",
      "9\n",
      "11\n",
      "13\n",
      "15\n",
      "17\n",
      "19\n",
      "21\n",
      "23\n",
      "25\n",
      "27\n",
      "29\n",
      "cantidad de ciclos con break: 209\n"
     ]
    }
   ],
   "source": [
    "tope_rango=30\n",
    "ciclo_con_break=0\n",
    "n = 0\n",
    "primo = True\n",
    "while (n<tope_rango):\n",
    "   for i in range(2,n):\n",
    "        ciclo_con_break +=1   #contador\n",
    "        if (n % 2 == 0):\n",
    "            primo = False \n",
    "            break\n",
    "   if (primo):\n",
    "        print(n)\n",
    "   else:\n",
    "        primo=True\n",
    "   n += 1\n",
    "print(\"cantidad de ciclos con break:\",(ciclo_con_break))   "
   ]
  },
  {
   "cell_type": "markdown",
   "metadata": {},
   "source": [
    "12. Aplicando continue, armar un ciclo while que solo imprima los valores divisibles por 12, dentro del rango de números de 100 a 300"
   ]
  },
  {
   "cell_type": "code",
   "execution_count": 46,
   "metadata": {},
   "outputs": [
    {
     "name": "stdout",
     "output_type": "stream",
     "text": [
      "108 es divisible por 12\n",
      "120 es divisible por 12\n",
      "132 es divisible por 12\n",
      "144 es divisible por 12\n",
      "156 es divisible por 12\n",
      "168 es divisible por 12\n",
      "180 es divisible por 12\n",
      "192 es divisible por 12\n",
      "204 es divisible por 12\n",
      "216 es divisible por 12\n",
      "228 es divisible por 12\n",
      "240 es divisible por 12\n",
      "252 es divisible por 12\n",
      "264 es divisible por 12\n",
      "276 es divisible por 12\n",
      "288 es divisible por 12\n",
      "300 es divisible por 12\n"
     ]
    }
   ],
   "source": [
    "n=99\n",
    "\n",
    "while(n<300):\n",
    "    n+=1\n",
    "    if n%12!=0:\n",
    "     continue\n",
    "    print (n,\"es divisible por 12\")\n",
    "     \n"
   ]
  },
  {
   "cell_type": "markdown",
   "metadata": {},
   "source": [
    "13. Utilizar la función input() que permite hacer ingresos por teclado, para encontrar números primos y dar la opción al usario de buscar el siguiente"
   ]
  },
  {
   "cell_type": "code",
   "execution_count": null,
   "metadata": {},
   "outputs": [],
   "source": [
    "#no me anduvo\n",
    "input = 4\n",
    "sigue=1\n",
    "primo = True\n",
    "while (sigue==1):\n",
    "   for i in range(input< 300):\n",
    "        if (input % 2 == 0):\n",
    "            primo = False \n",
    "            break\n",
    "   if (primo):\n",
    "        print(input)\n",
    "        print(\"¿desea encontrar el siguiente numero?\")\n",
    "        if ( input() != '1'):\n",
    "         print(\"se finaliza el proceso\")\n",
    "         break\n",
    "   else:\n",
    "        primo=True\n",
    "   n += 1"
   ]
  },
  {
   "cell_type": "markdown",
   "metadata": {},
   "source": [
    "14. Crear un ciclo while que encuentre dentro del rango de 100 a 300 el primer número divisible por 3 y además múltiplo de 6"
   ]
  },
  {
   "cell_type": "code",
   "execution_count": 6,
   "metadata": {},
   "outputs": [
    {
     "name": "stdout",
     "output_type": "stream",
     "text": [
      "102 es divisble por 3 y multiplo de 6\n"
     ]
    }
   ],
   "source": [
    "n=99\n",
    "\n",
    "while (n<300):\n",
    "    n+=1\n",
    "    if n%3==0:\n",
    "      if n%6==0:\n",
    "       print (n, \"es divisble por 3 y multiplo de 6\")\n",
    "       break"
   ]
  }
 ],
 "metadata": {
  "kernelspec": {
   "display_name": "Python 3",
   "language": "python",
   "name": "python3"
  },
  "language_info": {
   "codemirror_mode": {
    "name": "ipython",
    "version": 3
   },
   "file_extension": ".py",
   "mimetype": "text/x-python",
   "name": "python",
   "nbconvert_exporter": "python",
   "pygments_lexer": "ipython3",
   "version": "3.9.5"
  }
 },
 "nbformat": 4,
 "nbformat_minor": 2
}
