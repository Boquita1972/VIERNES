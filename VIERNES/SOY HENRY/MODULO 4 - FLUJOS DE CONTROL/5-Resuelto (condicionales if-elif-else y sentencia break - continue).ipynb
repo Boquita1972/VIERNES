{
 "cells": [
  {
   "cell_type": "markdown",
   "metadata": {},
   "source": [
    "## Sentencia if - elif - else."
   ]
  },
  {
   "cell_type": "code",
   "execution_count": 1,
   "metadata": {},
   "outputs": [
    {
     "name": "stdout",
     "output_type": "stream",
     "text": [
      "El número es positivo\n"
     ]
    }
   ],
   "source": [
    "numero = 6\n",
    "if numero > 0:\n",
    "    print(\"El número es positivo\")\n",
    "elif numero < 0:\n",
    "    print(\"El número es negativo\")\n",
    "else:\n",
    "    print(\"El número es igual a cero\")"
   ]
  },
  {
   "cell_type": "code",
   "execution_count": 5,
   "metadata": {},
   "outputs": [
    {
     "name": "stdout",
     "output_type": "stream",
     "text": [
      "Su calificacion es: F\n"
     ]
    }
   ],
   "source": [
    "puntuacion = 30\n",
    "if puntuacion >= 90:\n",
    "    calificacion = \"A\"\n",
    "elif puntuacion >= 80:\n",
    "    calificacion = \"B\"\n",
    "elif puntuacion >= 70:\n",
    "    calificacion = \"C\"\n",
    "elif puntuacion >= 60:\n",
    "    calificacion = \"D\"\n",
    "else:\n",
    "    calificacion = \"F\"\n",
    "print(f\"Su calificacion es: {calificacion}\")"
   ]
  },
  {
   "cell_type": "markdown",
   "metadata": {},
   "source": [
    "## Ciclo for"
   ]
  },
  {
   "cell_type": "code",
   "execution_count": 7,
   "metadata": {},
   "outputs": [
    {
     "name": "stdout",
     "output_type": "stream",
     "text": [
      "0\n",
      "1\n",
      "2\n",
      "3\n",
      "4\n"
     ]
    }
   ],
   "source": [
    "for numero in range(5):\n",
    "    print(numero)"
   ]
  },
  {
   "cell_type": "code",
   "execution_count": 8,
   "metadata": {},
   "outputs": [
    {
     "name": "stdout",
     "output_type": "stream",
     "text": [
      "H\n",
      "o\n",
      "l\n",
      "a\n",
      ",\n",
      " \n",
      "m\n",
      "u\n",
      "n\n",
      "d\n",
      "o\n"
     ]
    }
   ],
   "source": [
    "texto = \"Hola, mundo\"\n",
    "\n",
    "for letra in texto:\n",
    "    print(letra)"
   ]
  },
  {
   "cell_type": "code",
   "execution_count": 9,
   "metadata": {},
   "outputs": [
    {
     "name": "stdout",
     "output_type": "stream",
     "text": [
      "S\n",
      "e\n",
      "b\n",
      "a\n",
      "s\n",
      "t\n",
      "i\n",
      "á\n",
      "n\n"
     ]
    }
   ],
   "source": [
    "nombre = input(\"Escriba su nombre: \")\n",
    "for letra in nombre:\n",
    "    print(letra)"
   ]
  },
  {
   "cell_type": "code",
   "execution_count": 11,
   "metadata": {},
   "outputs": [
    {
     "name": "stdout",
     "output_type": "stream",
     "text": [
      "5\n",
      "4\n",
      "3\n",
      "2\n"
     ]
    }
   ],
   "source": [
    "for i in range(5, 1, -1):\n",
    "    print(i)"
   ]
  },
  {
   "cell_type": "code",
   "execution_count": null,
   "metadata": {},
   "outputs": [],
   "source": [
    "suma = suma + numero"
   ]
  },
  {
   "cell_type": "code",
   "execution_count": 13,
   "metadata": {},
   "outputs": [
    {
     "name": "stdout",
     "output_type": "stream",
     "text": [
      "El numero en esta iteración es: 1\n",
      "La suma en esta iteración va: 1\n",
      "El numero en esta iteración es: 2\n",
      "La suma en esta iteración va: 3\n",
      "El numero en esta iteración es: 3\n",
      "La suma en esta iteración va: 6\n",
      "El numero en esta iteración es: 4\n",
      "La suma en esta iteración va: 10\n",
      "El numero en esta iteración es: 5\n",
      "La suma en esta iteración va: 15\n",
      "El numero en esta iteración es: 6\n",
      "La suma en esta iteración va: 21\n",
      "El numero en esta iteración es: 7\n",
      "La suma en esta iteración va: 28\n",
      "El numero en esta iteración es: 8\n",
      "La suma en esta iteración va: 36\n",
      "El numero en esta iteración es: 9\n",
      "La suma en esta iteración va: 45\n",
      "El numero en esta iteración es: 10\n",
      "La suma en esta iteración va: 55\n",
      "La suma total de los números del 1 al 10 es: 55\n"
     ]
    }
   ],
   "source": [
    "suma = 0\n",
    "for numero in range(1, 11):\n",
    "    print(\"El numero en esta iteración es:\", numero)\n",
    "    suma += numero\n",
    "    print(\"La suma en esta iteración va:\", suma)\n",
    "print(\"La suma total de los números del 1 al 10 es:\", suma)"
   ]
  },
  {
   "cell_type": "markdown",
   "metadata": {},
   "source": [
    "## Ciclo while"
   ]
  },
  {
   "cell_type": "code",
   "execution_count": 2,
   "metadata": {},
   "outputs": [
    {
     "name": "stdout",
     "output_type": "stream",
     "text": [
      "5\n",
      "4\n",
      "3\n",
      "2\n",
      "1\n"
     ]
    }
   ],
   "source": [
    "numero = 5\n",
    "\n",
    "while numero >= 1:\n",
    "    print(numero)\n",
    "    numero -= 1"
   ]
  },
  {
   "cell_type": "code",
   "execution_count": 3,
   "metadata": {},
   "outputs": [
    {
     "name": "stdout",
     "output_type": "stream",
     "text": [
      "Iteración 1\n",
      "Iteración 2\n",
      "Iteración 3\n",
      "Iteración 4\n",
      "Iteración 5\n"
     ]
    }
   ],
   "source": [
    "contador = 1\n",
    "maximo = 5\n",
    "\n",
    "while contador <= maximo:\n",
    "    print(\"Iteración\", contador)\n",
    "    contador += 1"
   ]
  },
  {
   "cell_type": "markdown",
   "metadata": {},
   "source": [
    "## Continue and Break"
   ]
  },
  {
   "cell_type": "code",
   "execution_count": 9,
   "metadata": {},
   "outputs": [
    {
     "data": {
      "text/plain": [
       "1"
      ]
     },
     "execution_count": 9,
     "metadata": {},
     "output_type": "execute_result"
    }
   ],
   "source": [
    "97 % 2"
   ]
  },
  {
   "cell_type": "code",
   "execution_count": 10,
   "metadata": {},
   "outputs": [
    {
     "name": "stdout",
     "output_type": "stream",
     "text": [
      "1\n",
      "3\n",
      "5\n",
      "7\n",
      "9\n"
     ]
    }
   ],
   "source": [
    "## Imprimir en pantalla solo los numeros impares\n",
    "for numero in range(1,11):\n",
    "    if numero % 2 == 0:\n",
    "        continue\n",
    "    print(numero)"
   ]
  },
  {
   "cell_type": "code",
   "execution_count": 14,
   "metadata": {},
   "outputs": [
    {
     "name": "stdout",
     "output_type": "stream",
     "text": [
      "Python s n lngj d progrmcón"
     ]
    }
   ],
   "source": [
    "frase = \"Python es un lenguaje de programación\"\n",
    "vocales = \"aeiOu\"\n",
    "\n",
    "for cualquiera in frase:\n",
    "    if cualquiera in vocales:\n",
    "        continue\n",
    "    print(cualquiera, end = \"\")"
   ]
  },
  {
   "cell_type": "code",
   "execution_count": 23,
   "metadata": {},
   "outputs": [
    {
     "name": "stdout",
     "output_type": "stream",
     "text": [
      "0\n",
      "1\n",
      "2\n",
      "3\n",
      "4\n",
      "5\n",
      "Elemento encontrado 5\n"
     ]
    }
   ],
   "source": [
    "elemento_buscado = 7\n",
    "\n",
    "for numero in range(21):\n",
    "    print(numero)\n",
    "    if numero == elemento_buscado:\n",
    "        print(\"Elemento encontrado\", elemento_buscado)\n",
    "        break\n",
    "else:\n",
    "    print(\"Elemento no encontrado\")"
   ]
  },
  {
   "cell_type": "code",
   "execution_count": 24,
   "metadata": {},
   "outputs": [
    {
     "name": "stdout",
     "output_type": "stream",
     "text": [
      "Iteración 1\n",
      "Iteración 2\n",
      "Iteración 3\n",
      "Iteración 4\n",
      "Iteración 5\n",
      "Fin del ciclo\n"
     ]
    }
   ],
   "source": [
    "contador = 1\n",
    "\n",
    "while True:\n",
    "    if contador > 5:\n",
    "        break\n",
    "    print(\"Iteración\", contador)\n",
    "    contador += 1\n",
    "print(\"Fin del ciclo\")"
   ]
  }
 ],
 "metadata": {
  "kernelspec": {
   "display_name": "sh",
   "language": "python",
   "name": "python3"
  },
  "language_info": {
   "codemirror_mode": {
    "name": "ipython",
    "version": 3
   },
   "file_extension": ".py",
   "mimetype": "text/x-python",
   "name": "python",
   "nbconvert_exporter": "python",
   "pygments_lexer": "ipython3",
   "version": "3.9.18"
  },
  "orig_nbformat": 4
 },
 "nbformat": 4,
 "nbformat_minor": 2
}
