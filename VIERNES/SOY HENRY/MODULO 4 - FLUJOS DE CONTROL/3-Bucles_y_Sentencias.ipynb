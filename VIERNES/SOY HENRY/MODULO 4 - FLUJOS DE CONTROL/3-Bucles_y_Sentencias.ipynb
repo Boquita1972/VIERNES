{
 "cells": [
  {
   "cell_type": "markdown",
   "metadata": {},
   "source": [
    "                                            BUCLES"
   ]
  },
  {
   "cell_type": "markdown",
   "metadata": {},
   "source": [
    "NOS PERMITEN REALIZAR ACCIONES QUE SON DE CARACTER REPETITIVO DE UNA MANERA SENCILLA."
   ]
  },
  {
   "cell_type": "markdown",
   "metadata": {},
   "source": [
    "SINTAXIS: MANERA EN LA QUE SE ESCRIBE EL CODIGO"
   ]
  },
  {
   "cell_type": "markdown",
   "metadata": {},
   "source": [
    "ITERANTE: SIGNIFICA REALIZAR UNA ACCION REPETIDAS VECES."
   ]
  },
  {
   "cell_type": "markdown",
   "metadata": {},
   "source": [
    "BUCLE FOR: SE UTILIZA CUANDO CONOCEMOS LA CANTIDAD DE PASOS QUE PUEDE LLEGAR A TENER.\n",
    "- FOR / IN : SON PALABRAS RESERVADAS DEL BUCLE."
   ]
  },
  {
   "cell_type": "code",
   "execution_count": 8,
   "metadata": {},
   "outputs": [
    {
     "name": "stdout",
     "output_type": "stream",
     "text": [
      "1\n",
      "2\n",
      "3\n",
      "4\n",
      "5\n",
      "6\n"
     ]
    }
   ],
   "source": [
    "numeros= (0,1,2,3,4,5)\n",
    "\n",
    "for num in numeros:\n",
    "    suma= num+1\n",
    "    print (suma)\n"
   ]
  },
  {
   "cell_type": "code",
   "execution_count": 13,
   "metadata": {},
   "outputs": [
    {
     "name": "stdout",
     "output_type": "stream",
     "text": [
      "1\n",
      "2\n",
      "3\n",
      "4\n",
      "5\n",
      "6\n"
     ]
    }
   ],
   "source": [
    "for i in range(0,6):\n",
    "    s= i+1\n",
    "    print (s)"
   ]
  },
  {
   "cell_type": "code",
   "execution_count": 39,
   "metadata": {},
   "outputs": [
    {
     "name": "stdout",
     "output_type": "stream",
     "text": [
      "la variable de iteracion es: 1 y el resultado de la suma es: 2\n",
      "la variable de iteracion es: 2 y el resultado de la suma es: 3\n",
      "la variable de iteracion es: 3 y el resultado de la suma es: 4\n",
      "la variable de iteracion es: 4 y el resultado de la suma es: 5\n",
      "la variable de iteracion es: 5 y el resultado de la suma es: 6\n"
     ]
    }
   ],
   "source": [
    "for i in range (1,6):\n",
    "     \n",
    "     suma=i+1\n",
    "\n",
    "     print (\"la variable de iteracion es:\",i, \"y el resultado de la suma es:\",suma)\n",
    "\n",
    "    "
   ]
  },
  {
   "cell_type": "markdown",
   "metadata": {},
   "source": [
    "WHILE: NOS PERMITE REPETIR UNA ACCION SIEMPRE QUE ESTA SEA VERDADERA, SE UTILIZA CUANDO NO TENEMOS LA CERTEZA DE CUANTAS VECES NECESITAMOS QUE ESTA SE EJECUTE.\n",
    "- EJEMPLO: CUANDO PARE DE LLOVER ME LEVANTO."
   ]
  },
  {
   "cell_type": "code",
   "execution_count": 28,
   "metadata": {},
   "outputs": [
    {
     "name": "stdout",
     "output_type": "stream",
     "text": [
      "el numero es: 1\n",
      "el numero es: 2\n",
      "el numero es: 3\n",
      "el numero es: 4\n",
      "el numero es: 5\n"
     ]
    }
   ],
   "source": [
    "num=1\n",
    "\n",
    "while num<6:\n",
    "    \n",
    "    print (\"el numero es:\", num)\n",
    "    \n",
    "    num=num+1\n"
   ]
  },
  {
   "cell_type": "code",
   "execution_count": 41,
   "metadata": {},
   "outputs": [
    {
     "name": "stdout",
     "output_type": "stream",
     "text": [
      "el numero es: 2\n",
      "el numero es: 3\n",
      "el numero es: 4\n",
      "el numero es: 5\n",
      "el numero es: 6\n"
     ]
    }
   ],
   "source": [
    "for i in range(1,6):\n",
    "     suma= i+1\n",
    "     print (\"el numero es:\", suma)"
   ]
  },
  {
   "cell_type": "code",
   "execution_count": 49,
   "metadata": {},
   "outputs": [
    {
     "name": "stdout",
     "output_type": "stream",
     "text": [
      "el numero es 2\n",
      "el numero es 3\n",
      "el numero es 4\n",
      "el numero es 5\n",
      "el numero es 6\n",
      "el numero es 7\n"
     ]
    }
   ],
   "source": [
    "num=(1,2,3,4,5,6)\n",
    "\n",
    "for i in num:\n",
    "      \n",
    "      suma=i+1\n",
    "      print (\"el numero es\", suma)\n",
    "  "
   ]
  },
  {
   "cell_type": "code",
   "execution_count": 51,
   "metadata": {},
   "outputs": [
    {
     "name": "stdout",
     "output_type": "stream",
     "text": [
      "el numero es: 1\n",
      "el numero es: 2\n",
      "el numero es: 3\n",
      "el numero es: 4\n",
      "el numero es: 5\n"
     ]
    }
   ],
   "source": [
    "num=1\n",
    "\n",
    "while num < 6:\n",
    "\n",
    "    print (\"el numero es:\", num)\n",
    "    num= num + 1"
   ]
  },
  {
   "cell_type": "markdown",
   "metadata": {},
   "source": [
    "------------------------------------------------------------------------------------------------------------------------------------"
   ]
  },
  {
   "cell_type": "markdown",
   "metadata": {},
   "source": [
    "                                                SENTENCIA"
   ]
  },
  {
   "cell_type": "markdown",
   "metadata": {},
   "source": [
    "BREAK: PERMITE ALTERAR EL COMPORTAMIENTO DE LOS BUCLE WHILE Y FOR, DADO QUE UNA VEZ QUE APARECE LA PALABRA BREAK EL BUCLE SE DETIENE."
   ]
  },
  {
   "cell_type": "code",
   "execution_count": 12,
   "metadata": {},
   "outputs": [
    {
     "name": "stdout",
     "output_type": "stream",
     "text": [
      "p\n",
      "y\n",
      "t\n",
      "se encontro la h\n"
     ]
    }
   ],
   "source": [
    "#encontrar la H en la palabra python#\n",
    "\n",
    "cadena=\"python\"\n",
    "for letra in cadena:\n",
    "    if letra == \"h\":\n",
    "        print (\"se encontro la h\") \n",
    "        break\n",
    "    print (letra) "
   ]
  },
  {
   "cell_type": "code",
   "execution_count": 5,
   "metadata": {},
   "outputs": [
    {
     "name": "stdout",
     "output_type": "stream",
     "text": [
      "4\n",
      "3\n",
      "2\n",
      "1\n",
      "0\n",
      "fin del bucle\n"
     ]
    }
   ],
   "source": [
    "x=5\n",
    "while 'true':\n",
    "    x-=1\n",
    "    print (x)\n",
    "    if x==0:\n",
    "     break\n",
    "print (\"fin del bucle\")    \n",
    "    \n",
    "    "
   ]
  },
  {
   "cell_type": "markdown",
   "metadata": {},
   "source": [
    "CONTINUE: SE SALTA EL CODIGO RSTANTE VOLVIENDO AL PRINCIPIO CONTINUANDO EL CICLO SI QUEDAN ITERACCIONES POR COMPLETAR.\n",
    "- NO ROMPE EL BUCLE, SI NO QUE PASA A LA SIGUIENTE ITERACCION."
   ]
  },
  {
   "cell_type": "code",
   "execution_count": 26,
   "metadata": {},
   "outputs": [
    {
     "name": "stdout",
     "output_type": "stream",
     "text": [
      "y\n",
      "t\n",
      "h\n",
      "o\n",
      "n\n"
     ]
    }
   ],
   "source": [
    "cadena=\"python\"\n",
    "for letra in cadena:\n",
    "    if letra == \"p\":\n",
    "       continue\n",
    "       print(\"se encontro la p\")\n",
    "       \n",
    "    print(letra)        "
   ]
  },
  {
   "cell_type": "markdown",
   "metadata": {},
   "source": [
    "-------------------------------------------------------------------------------------------------------------------------------------------"
   ]
  },
  {
   "cell_type": "markdown",
   "metadata": {},
   "source": [
    "                                                        TEORIA"
   ]
  },
  {
   "cell_type": "markdown",
   "metadata": {},
   "source": [
    "Condicionales\n",
    "Los condicionales son bloques de código que se ejecutan únicamente si se cumple una condición. El resultado de esta condición debe ser booleano (True o False). Esto se logra mediante la sentencia if. Con la sentencia elif se puede agregar un número arbitrario de condiciones. Por otra parte, se puede ejecutar código si la/s condición/es no se cumple/n con la sentencia else."
   ]
  },
  {
   "cell_type": "code",
   "execution_count": null,
   "metadata": {},
   "outputs": [],
   "source": [
    ">>> valor = 0\n",
    ">>> if (valor < 0):\n",
    ">>>     print('El número es negativo')\n",
    ">>> elif (valor > 0):\n",
    ">>>     print('El número es positivo')\n",
    ">>> else:\n",
    ">>>     print('El número es igual a cero')\n",
    "El número es igual a cero"
   ]
  },
  {
   "cell_type": "markdown",
   "metadata": {},
   "source": [
    "Ciclos Iterativos o Loops\n",
    "Son bloques de código que se repiten una cierta cantidad de veces en función de ciertas condiciones.\n",
    "\n",
    "Un ciclo for (PARA)repite un bloque de código tantas veces como elementos haya dentro del rango entre 1 y 10:"
   ]
  },
  {
   "cell_type": "code",
   "execution_count": null,
   "metadata": {},
   "outputs": [],
   "source": [
    ">>> for n in range(1,10):\n",
    ">>>     print(n)\n",
    "1\n",
    "2\n",
    "3\n",
    "4\n",
    "5\n",
    "6\n",
    "7\n",
    "8\n",
    "9"
   ]
  },
  {
   "cell_type": "markdown",
   "metadata": {},
   "source": [
    "Un ciclo while (MIENTRAS) repite un bloque de código mientras que cierta condición se cumpla:\n",
    "\n"
   ]
  },
  {
   "cell_type": "code",
   "execution_count": null,
   "metadata": {},
   "outputs": [],
   "source": [
    ">>> n = 1\n",
    ">>> while (n < 10):\n",
    ">>>     print(n)\n",
    ">>>     n = n + 1\n",
    "1\n",
    "2\n",
    "3\n",
    "4\n",
    "5\n",
    "6\n",
    "7\n",
    "8\n",
    "9"
   ]
  },
  {
   "cell_type": "markdown",
   "metadata": {},
   "source": [
    "En Python es importante la indentación, notar que el código que se ejecuta dentro de una sentencia if, for o while está indentado."
   ]
  },
  {
   "cell_type": "markdown",
   "metadata": {},
   "source": [
    "                                     ------------------------------------------------------------"
   ]
  },
  {
   "cell_type": "markdown",
   "metadata": {},
   "source": [
    "                                                    Sentencia Break\n"
   ]
  },
  {
   "cell_type": "markdown",
   "metadata": {},
   "source": [
    "\n",
    "La sentencia break permite alterar el comportamiento de los bucles while y for. Concretamente, permite terminar con la ejecución del bucle. Esto significa que una vez se encuentra la palabra break, el bucle se habrá terminado. Veamos cómo podemos usar el break con bucles for. El range(5) generaría 5 iteraciones, donde la i valdría de 0 a 4. Sin embargo, en la primera iteración, terminamos el bucle prematuramente. El break hace que nada más empezar el bucle, se rompa y se salga sin haber hecho nada."
   ]
  },
  {
   "cell_type": "code",
   "execution_count": null,
   "metadata": {},
   "outputs": [],
   "source": [
    ">>> for i in range(5):\n",
    ">>>   print(i)\n",
    ">>>   break\n",
    "0"
   ]
  },
  {
   "cell_type": "markdown",
   "metadata": {},
   "source": [
    "Un ejemplo un poco más útil, sería el de buscar una letra en una palabra. Se itera toda la palabra y en el momento en el que se encuentra la letra que buscábamos, se rompe el bucle y se sale. Esto es algo muy útil porque si ya encontramos lo que estábamos buscando, no tendría mucho sentido seguir iterando la lista, ya que desperdiciaríamos recursos."
   ]
  },
  {
   "cell_type": "code",
   "execution_count": null,
   "metadata": {},
   "outputs": [],
   "source": [
    ">>> cadena = 'Python'\n",
    ">>> for letra in cadena:\n",
    ">>>     if letra == 'h':\n",
    ">>>         print(\"Se encontró la h\")\n",
    ">>>         break\n",
    ">>>     print(letra)\n",
    "P\n",
    "y\n",
    "t\n",
    "Se encontró la h"
   ]
  },
  {
   "cell_type": "markdown",
   "metadata": {},
   "source": [
    "El break también nos permite alterar el comportamiento del while. En el ejemplo, la condición while True haría que la sección de código se ejecutará indefinidamente, pero al hacer uso del break, el bucle se romperá cuando x valga cero."
   ]
  },
  {
   "cell_type": "code",
   "execution_count": null,
   "metadata": {},
   "outputs": [],
   "source": [
    ">>> x = 5\n",
    ">>> while True:\n",
    ">>>     x -= 1\n",
    ">>>     print(x)\n",
    ">>>     if x == 0:\n",
    ">>>         break\n",
    ">>> print(\"Fin del bucle\")\n",
    "4\n",
    "3\n",
    "2\n",
    "1\n",
    "0\n",
    "Fin del bucle"
   ]
  },
  {
   "cell_type": "markdown",
   "metadata": {},
   "source": [
    "Por norma general, y salvo casos muy concretos, si ves un while True, es probable que haya un break dentro del bucle."
   ]
  },
  {
   "cell_type": "markdown",
   "metadata": {},
   "source": [
    "                                                            Sentencia Continue"
   ]
  },
  {
   "cell_type": "markdown",
   "metadata": {},
   "source": [
    "\n",
    "El uso de continue al igual que el ya visto break, permite modificar el comportamiento de de los bucles while y for. Concretamente, la sentencia continue se salta todo el código restante en la iteración actual y vuelve al principio en el caso de que aún queden iteraciones por completar. La diferencia con la sentencia break es que el continue no rompe el bucle, si no que pasa a la siguiente iteración saltando el código pendiente. En el siguiente ejemplo vemos como al encontrar la letra P se llama al continue, lo que hace que se salte el print(). Es por ello por lo que no vemos la letra P impresa en pantalla."
   ]
  },
  {
   "cell_type": "code",
   "execution_count": null,
   "metadata": {},
   "outputs": [],
   "source": [
    ">>> cadena = 'Python'\n",
    ">>> for letra in cadena:\n",
    ">>>     if letra == 'P':\n",
    ">>>         continue\n",
    ">>>     print(letra)\n",
    "y\n",
    "t\n",
    "h\n",
    "o\n",
    "n"
   ]
  }
 ],
 "metadata": {
  "kernelspec": {
   "display_name": "Python 3",
   "language": "python",
   "name": "python3"
  },
  "language_info": {
   "codemirror_mode": {
    "name": "ipython",
    "version": 3
   },
   "file_extension": ".py",
   "mimetype": "text/x-python",
   "name": "python",
   "nbconvert_exporter": "python",
   "pygments_lexer": "ipython3",
   "version": "3.9.5"
  }
 },
 "nbformat": 4,
 "nbformat_minor": 2
}
