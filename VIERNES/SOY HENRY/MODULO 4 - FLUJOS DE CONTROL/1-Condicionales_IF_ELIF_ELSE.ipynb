{
 "cells": [
  {
   "cell_type": "markdown",
   "metadata": {},
   "source": [
    "                                                    FLUJOS DE CONTROL"
   ]
  },
  {
   "cell_type": "markdown",
   "metadata": {},
   "source": [
    "                                             CONDICIONALES:  IF - ELIF - ELSE"
   ]
  },
  {
   "cell_type": "markdown",
   "metadata": {},
   "source": [
    "SINTAXIS: CONJUNTO DE REGLAS QUE DEBEN SEGUIRSE AL ESCRIBIR EL CODIGO PARA QUE SE CONSIDERE CORRECTO"
   ]
  },
  {
   "cell_type": "code",
   "execution_count": 5,
   "metadata": {},
   "outputs": [],
   "source": [
    "a=5\n",
    "b=7"
   ]
  },
  {
   "cell_type": "code",
   "execution_count": 6,
   "metadata": {},
   "outputs": [
    {
     "name": "stdout",
     "output_type": "stream",
     "text": [
      "a es menor que b\n"
     ]
    }
   ],
   "source": [
    "if a < b:\n",
    "    print (\"a es menor que b\")\n",
    "           \n",
    "elif a > b:\n",
    "    print (\"a es mayor que b\")   \n",
    "\n",
    "else:\n",
    "    print (\"ambos numeros son iguales\")         "
   ]
  },
  {
   "cell_type": "code",
   "execution_count": 11,
   "metadata": {},
   "outputs": [
    {
     "name": "stdout",
     "output_type": "stream",
     "text": [
      "soy mayor\n"
     ]
    }
   ],
   "source": [
    "num=6\n",
    "\n",
    "if num > 5:\n",
    "    print (\"soy mayor\")\n",
    "\n",
    "elif num < 5:\n",
    "    print (\"soy menor\")\n",
    "\n",
    "else:\n",
    "    print (\"son iguales\")        \n",
    "   "
   ]
  }
 ],
 "metadata": {
  "kernelspec": {
   "display_name": "Python 3",
   "language": "python",
   "name": "python3"
  },
  "language_info": {
   "codemirror_mode": {
    "name": "ipython",
    "version": 3
   },
   "file_extension": ".py",
   "mimetype": "text/x-python",
   "name": "python",
   "nbconvert_exporter": "python",
   "pygments_lexer": "ipython3",
   "version": "3.9.5"
  }
 },
 "nbformat": 4,
 "nbformat_minor": 2
}
